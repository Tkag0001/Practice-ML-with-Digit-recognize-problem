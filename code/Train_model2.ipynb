{
  "nbformat": 4,
  "nbformat_minor": 0,
  "metadata": {
    "colab": {
      "provenance": [],
      "mount_file_id": "1QMYnUKNNiTUZFIwBeH1esWahZNimk95F",
      "authorship_tag": "ABX9TyMn/nll0jnp7izd4g33dJBz",
      "include_colab_link": true
    },
    "kernelspec": {
      "name": "python3",
      "display_name": "Python 3"
    },
    "language_info": {
      "name": "python"
    },
    "accelerator": "TPU"
  },
  "cells": [
    {
      "cell_type": "markdown",
      "metadata": {
        "id": "view-in-github",
        "colab_type": "text"
      },
      "source": [
        "<a href=\"https://colab.research.google.com/github/Tkag0001/Practice-ML-with-Digit-recognize-problem/blob/main/code/Train_model.ipynb\" target=\"_parent\"><img src=\"https://colab.research.google.com/assets/colab-badge.svg\" alt=\"Open In Colab\"/></a>"
      ]
    },
    {
      "cell_type": "markdown",
      "source": [
        "#Problem: Recognizing handwritten digits\n",
        "Data resources: https://www.kaggle.com/c/digit-recognizer"
      ],
      "metadata": {
        "id": "eoVLzSiv19_D"
      }
    },
    {
      "cell_type": "markdown",
      "source": [
        "#Connect to drive:"
      ],
      "metadata": {
        "id": "528HACLA1tYB"
      }
    },
    {
      "cell_type": "code",
      "execution_count": null,
      "metadata": {
        "colab": {
          "base_uri": "https://localhost:8080/"
        },
        "id": "dA2gae_I06DB",
        "outputId": "2f44cba5-1921-478f-82bd-1429c1b7478b"
      },
      "outputs": [
        {
          "output_type": "stream",
          "name": "stdout",
          "text": [
            "Mounted at /content/drive\n"
          ]
        }
      ],
      "source": [
        "from google.colab import drive\n",
        "drive.mount(\"/content/drive\")"
      ]
    },
    {
      "cell_type": "markdown",
      "source": [
        "#Import packages:"
      ],
      "metadata": {
        "id": "FFsUKggp3Ew4"
      }
    },
    {
      "cell_type": "code",
      "source": [
        "import numpy as np\n",
        "import seaborn as sns\n",
        "import pandas as pd\n",
        "import matplotlib\n",
        "import matplotlib.pyplot as plt"
      ],
      "metadata": {
        "id": "yCRHPdap1yKA"
      },
      "execution_count": null,
      "outputs": []
    },
    {
      "cell_type": "code",
      "source": [
        "print(np.__version__)\n",
        "print(sns.__version__)\n",
        "print(pd.__version__)\n",
        "print(matplotlib.__version__)"
      ],
      "metadata": {
        "colab": {
          "base_uri": "https://localhost:8080/"
        },
        "id": "xijgb8QJo8ZP",
        "outputId": "41eb7ff9-99cc-4e77-c02f-28f13de8ccb5"
      },
      "execution_count": null,
      "outputs": [
        {
          "output_type": "stream",
          "name": "stdout",
          "text": [
            "1.23.5\n",
            "0.12.2\n",
            "1.5.3\n",
            "3.7.1\n"
          ]
        }
      ]
    },
    {
      "cell_type": "markdown",
      "source": [
        "#Loading the dataset:\n"
      ],
      "metadata": {
        "id": "6VVFK12E3esx"
      }
    },
    {
      "cell_type": "markdown",
      "source": [
        "unzip data"
      ],
      "metadata": {
        "id": "S0v5E9Md4Bm7"
      }
    },
    {
      "cell_type": "code",
      "source": [
        "!unzip '/content/drive/MyDrive/Tài liệu học kì 1 năm 3/Open_source/Project/data/digit-recognizer.zip' -d '/content/drive/MyDrive/Tài liệu học kì 1 năm 3/Open_source/Project/data'"
      ],
      "metadata": {
        "colab": {
          "base_uri": "https://localhost:8080/"
        },
        "id": "fvtov09I3clP",
        "outputId": "26bbb6d4-71af-499f-a2a4-3a8ee992fa98"
      },
      "execution_count": null,
      "outputs": [
        {
          "output_type": "stream",
          "name": "stdout",
          "text": [
            "Archive:  /content/drive/MyDrive/Tài liệu học kì 1 năm 3/Open_source/Project/data/digit-recognizer.zip\n",
            "  inflating: /content/drive/MyDrive/Tài liệu học kì 1 năm 3/Open_source/Project/data/sample_submission.csv  \n",
            "  inflating: /content/drive/MyDrive/Tài liệu học kì 1 năm 3/Open_source/Project/data/test.csv  \n",
            "  inflating: /content/drive/MyDrive/Tài liệu học kì 1 năm 3/Open_source/Project/data/train.csv  \n"
          ]
        }
      ]
    },
    {
      "cell_type": "markdown",
      "source": [
        "## Note: pls change url to your data folder"
      ],
      "metadata": {
        "id": "yTRIMTY6vQ0_"
      }
    },
    {
      "cell_type": "code",
      "source": [
        "train = pd.read_csv('/content/drive/MyDrive/Tài liệu học kì 1 năm 3/Open_source/Project/data/train.csv')\n",
        "test = pd.read_csv('/content/drive/MyDrive/Tài liệu học kì 1 năm 3/Open_source/Project/data/test.csv')"
      ],
      "metadata": {
        "id": "Wx_pLLMD4zTq"
      },
      "execution_count": null,
      "outputs": []
    },
    {
      "cell_type": "code",
      "source": [
        "print(f\"train size: {train.shape}\")\n",
        "print(f\"test size: {test.shape}\")"
      ],
      "metadata": {
        "colab": {
          "base_uri": "https://localhost:8080/"
        },
        "id": "wpoPO8QB953i",
        "outputId": "509b0fd5-1ac5-479e-8e94-b67a6c5f4448"
      },
      "execution_count": null,
      "outputs": [
        {
          "output_type": "stream",
          "name": "stdout",
          "text": [
            "train size: (42000, 785)\n",
            "test size: (28000, 784)\n"
          ]
        }
      ]
    },
    {
      "cell_type": "markdown",
      "source": [
        "#Visualize data"
      ],
      "metadata": {
        "id": "-t6lpUv64kOs"
      }
    },
    {
      "cell_type": "code",
      "source": [
        "train.head()"
      ],
      "metadata": {
        "colab": {
          "base_uri": "https://localhost:8080/",
          "height": 255
        },
        "id": "g8k8Djwd4fBM",
        "outputId": "618273b1-0dcc-42f4-be5d-667c7eb1d4a4"
      },
      "execution_count": null,
      "outputs": [
        {
          "output_type": "execute_result",
          "data": {
            "text/plain": [
              "   label  pixel0  pixel1  pixel2  pixel3  pixel4  pixel5  pixel6  pixel7  \\\n",
              "0      1       0       0       0       0       0       0       0       0   \n",
              "1      0       0       0       0       0       0       0       0       0   \n",
              "2      1       0       0       0       0       0       0       0       0   \n",
              "3      4       0       0       0       0       0       0       0       0   \n",
              "4      0       0       0       0       0       0       0       0       0   \n",
              "\n",
              "   pixel8  ...  pixel774  pixel775  pixel776  pixel777  pixel778  pixel779  \\\n",
              "0       0  ...         0         0         0         0         0         0   \n",
              "1       0  ...         0         0         0         0         0         0   \n",
              "2       0  ...         0         0         0         0         0         0   \n",
              "3       0  ...         0         0         0         0         0         0   \n",
              "4       0  ...         0         0         0         0         0         0   \n",
              "\n",
              "   pixel780  pixel781  pixel782  pixel783  \n",
              "0         0         0         0         0  \n",
              "1         0         0         0         0  \n",
              "2         0         0         0         0  \n",
              "3         0         0         0         0  \n",
              "4         0         0         0         0  \n",
              "\n",
              "[5 rows x 785 columns]"
            ],
            "text/html": [
              "\n",
              "  <div id=\"df-a6c9f9ec-b1e4-4dfb-8911-dd4e823fc6e4\" class=\"colab-df-container\">\n",
              "    <div>\n",
              "<style scoped>\n",
              "    .dataframe tbody tr th:only-of-type {\n",
              "        vertical-align: middle;\n",
              "    }\n",
              "\n",
              "    .dataframe tbody tr th {\n",
              "        vertical-align: top;\n",
              "    }\n",
              "\n",
              "    .dataframe thead th {\n",
              "        text-align: right;\n",
              "    }\n",
              "</style>\n",
              "<table border=\"1\" class=\"dataframe\">\n",
              "  <thead>\n",
              "    <tr style=\"text-align: right;\">\n",
              "      <th></th>\n",
              "      <th>label</th>\n",
              "      <th>pixel0</th>\n",
              "      <th>pixel1</th>\n",
              "      <th>pixel2</th>\n",
              "      <th>pixel3</th>\n",
              "      <th>pixel4</th>\n",
              "      <th>pixel5</th>\n",
              "      <th>pixel6</th>\n",
              "      <th>pixel7</th>\n",
              "      <th>pixel8</th>\n",
              "      <th>...</th>\n",
              "      <th>pixel774</th>\n",
              "      <th>pixel775</th>\n",
              "      <th>pixel776</th>\n",
              "      <th>pixel777</th>\n",
              "      <th>pixel778</th>\n",
              "      <th>pixel779</th>\n",
              "      <th>pixel780</th>\n",
              "      <th>pixel781</th>\n",
              "      <th>pixel782</th>\n",
              "      <th>pixel783</th>\n",
              "    </tr>\n",
              "  </thead>\n",
              "  <tbody>\n",
              "    <tr>\n",
              "      <th>0</th>\n",
              "      <td>1</td>\n",
              "      <td>0</td>\n",
              "      <td>0</td>\n",
              "      <td>0</td>\n",
              "      <td>0</td>\n",
              "      <td>0</td>\n",
              "      <td>0</td>\n",
              "      <td>0</td>\n",
              "      <td>0</td>\n",
              "      <td>0</td>\n",
              "      <td>...</td>\n",
              "      <td>0</td>\n",
              "      <td>0</td>\n",
              "      <td>0</td>\n",
              "      <td>0</td>\n",
              "      <td>0</td>\n",
              "      <td>0</td>\n",
              "      <td>0</td>\n",
              "      <td>0</td>\n",
              "      <td>0</td>\n",
              "      <td>0</td>\n",
              "    </tr>\n",
              "    <tr>\n",
              "      <th>1</th>\n",
              "      <td>0</td>\n",
              "      <td>0</td>\n",
              "      <td>0</td>\n",
              "      <td>0</td>\n",
              "      <td>0</td>\n",
              "      <td>0</td>\n",
              "      <td>0</td>\n",
              "      <td>0</td>\n",
              "      <td>0</td>\n",
              "      <td>0</td>\n",
              "      <td>...</td>\n",
              "      <td>0</td>\n",
              "      <td>0</td>\n",
              "      <td>0</td>\n",
              "      <td>0</td>\n",
              "      <td>0</td>\n",
              "      <td>0</td>\n",
              "      <td>0</td>\n",
              "      <td>0</td>\n",
              "      <td>0</td>\n",
              "      <td>0</td>\n",
              "    </tr>\n",
              "    <tr>\n",
              "      <th>2</th>\n",
              "      <td>1</td>\n",
              "      <td>0</td>\n",
              "      <td>0</td>\n",
              "      <td>0</td>\n",
              "      <td>0</td>\n",
              "      <td>0</td>\n",
              "      <td>0</td>\n",
              "      <td>0</td>\n",
              "      <td>0</td>\n",
              "      <td>0</td>\n",
              "      <td>...</td>\n",
              "      <td>0</td>\n",
              "      <td>0</td>\n",
              "      <td>0</td>\n",
              "      <td>0</td>\n",
              "      <td>0</td>\n",
              "      <td>0</td>\n",
              "      <td>0</td>\n",
              "      <td>0</td>\n",
              "      <td>0</td>\n",
              "      <td>0</td>\n",
              "    </tr>\n",
              "    <tr>\n",
              "      <th>3</th>\n",
              "      <td>4</td>\n",
              "      <td>0</td>\n",
              "      <td>0</td>\n",
              "      <td>0</td>\n",
              "      <td>0</td>\n",
              "      <td>0</td>\n",
              "      <td>0</td>\n",
              "      <td>0</td>\n",
              "      <td>0</td>\n",
              "      <td>0</td>\n",
              "      <td>...</td>\n",
              "      <td>0</td>\n",
              "      <td>0</td>\n",
              "      <td>0</td>\n",
              "      <td>0</td>\n",
              "      <td>0</td>\n",
              "      <td>0</td>\n",
              "      <td>0</td>\n",
              "      <td>0</td>\n",
              "      <td>0</td>\n",
              "      <td>0</td>\n",
              "    </tr>\n",
              "    <tr>\n",
              "      <th>4</th>\n",
              "      <td>0</td>\n",
              "      <td>0</td>\n",
              "      <td>0</td>\n",
              "      <td>0</td>\n",
              "      <td>0</td>\n",
              "      <td>0</td>\n",
              "      <td>0</td>\n",
              "      <td>0</td>\n",
              "      <td>0</td>\n",
              "      <td>0</td>\n",
              "      <td>...</td>\n",
              "      <td>0</td>\n",
              "      <td>0</td>\n",
              "      <td>0</td>\n",
              "      <td>0</td>\n",
              "      <td>0</td>\n",
              "      <td>0</td>\n",
              "      <td>0</td>\n",
              "      <td>0</td>\n",
              "      <td>0</td>\n",
              "      <td>0</td>\n",
              "    </tr>\n",
              "  </tbody>\n",
              "</table>\n",
              "<p>5 rows × 785 columns</p>\n",
              "</div>\n",
              "    <div class=\"colab-df-buttons\">\n",
              "\n",
              "  <div class=\"colab-df-container\">\n",
              "    <button class=\"colab-df-convert\" onclick=\"convertToInteractive('df-a6c9f9ec-b1e4-4dfb-8911-dd4e823fc6e4')\"\n",
              "            title=\"Convert this dataframe to an interactive table.\"\n",
              "            style=\"display:none;\">\n",
              "\n",
              "  <svg xmlns=\"http://www.w3.org/2000/svg\" height=\"24px\" viewBox=\"0 -960 960 960\">\n",
              "    <path d=\"M120-120v-720h720v720H120Zm60-500h600v-160H180v160Zm220 220h160v-160H400v160Zm0 220h160v-160H400v160ZM180-400h160v-160H180v160Zm440 0h160v-160H620v160ZM180-180h160v-160H180v160Zm440 0h160v-160H620v160Z\"/>\n",
              "  </svg>\n",
              "    </button>\n",
              "\n",
              "  <style>\n",
              "    .colab-df-container {\n",
              "      display:flex;\n",
              "      gap: 12px;\n",
              "    }\n",
              "\n",
              "    .colab-df-convert {\n",
              "      background-color: #E8F0FE;\n",
              "      border: none;\n",
              "      border-radius: 50%;\n",
              "      cursor: pointer;\n",
              "      display: none;\n",
              "      fill: #1967D2;\n",
              "      height: 32px;\n",
              "      padding: 0 0 0 0;\n",
              "      width: 32px;\n",
              "    }\n",
              "\n",
              "    .colab-df-convert:hover {\n",
              "      background-color: #E2EBFA;\n",
              "      box-shadow: 0px 1px 2px rgba(60, 64, 67, 0.3), 0px 1px 3px 1px rgba(60, 64, 67, 0.15);\n",
              "      fill: #174EA6;\n",
              "    }\n",
              "\n",
              "    .colab-df-buttons div {\n",
              "      margin-bottom: 4px;\n",
              "    }\n",
              "\n",
              "    [theme=dark] .colab-df-convert {\n",
              "      background-color: #3B4455;\n",
              "      fill: #D2E3FC;\n",
              "    }\n",
              "\n",
              "    [theme=dark] .colab-df-convert:hover {\n",
              "      background-color: #434B5C;\n",
              "      box-shadow: 0px 1px 3px 1px rgba(0, 0, 0, 0.15);\n",
              "      filter: drop-shadow(0px 1px 2px rgba(0, 0, 0, 0.3));\n",
              "      fill: #FFFFFF;\n",
              "    }\n",
              "  </style>\n",
              "\n",
              "    <script>\n",
              "      const buttonEl =\n",
              "        document.querySelector('#df-a6c9f9ec-b1e4-4dfb-8911-dd4e823fc6e4 button.colab-df-convert');\n",
              "      buttonEl.style.display =\n",
              "        google.colab.kernel.accessAllowed ? 'block' : 'none';\n",
              "\n",
              "      async function convertToInteractive(key) {\n",
              "        const element = document.querySelector('#df-a6c9f9ec-b1e4-4dfb-8911-dd4e823fc6e4');\n",
              "        const dataTable =\n",
              "          await google.colab.kernel.invokeFunction('convertToInteractive',\n",
              "                                                    [key], {});\n",
              "        if (!dataTable) return;\n",
              "\n",
              "        const docLinkHtml = 'Like what you see? Visit the ' +\n",
              "          '<a target=\"_blank\" href=https://colab.research.google.com/notebooks/data_table.ipynb>data table notebook</a>'\n",
              "          + ' to learn more about interactive tables.';\n",
              "        element.innerHTML = '';\n",
              "        dataTable['output_type'] = 'display_data';\n",
              "        await google.colab.output.renderOutput(dataTable, element);\n",
              "        const docLink = document.createElement('div');\n",
              "        docLink.innerHTML = docLinkHtml;\n",
              "        element.appendChild(docLink);\n",
              "      }\n",
              "    </script>\n",
              "  </div>\n",
              "\n",
              "\n",
              "<div id=\"df-a8c18069-71cb-458a-a827-908797fde301\">\n",
              "  <button class=\"colab-df-quickchart\" onclick=\"quickchart('df-a8c18069-71cb-458a-a827-908797fde301')\"\n",
              "            title=\"Suggest charts.\"\n",
              "            style=\"display:none;\">\n",
              "\n",
              "<svg xmlns=\"http://www.w3.org/2000/svg\" height=\"24px\"viewBox=\"0 0 24 24\"\n",
              "     width=\"24px\">\n",
              "    <g>\n",
              "        <path d=\"M19 3H5c-1.1 0-2 .9-2 2v14c0 1.1.9 2 2 2h14c1.1 0 2-.9 2-2V5c0-1.1-.9-2-2-2zM9 17H7v-7h2v7zm4 0h-2V7h2v10zm4 0h-2v-4h2v4z\"/>\n",
              "    </g>\n",
              "</svg>\n",
              "  </button>\n",
              "\n",
              "<style>\n",
              "  .colab-df-quickchart {\n",
              "      --bg-color: #E8F0FE;\n",
              "      --fill-color: #1967D2;\n",
              "      --hover-bg-color: #E2EBFA;\n",
              "      --hover-fill-color: #174EA6;\n",
              "      --disabled-fill-color: #AAA;\n",
              "      --disabled-bg-color: #DDD;\n",
              "  }\n",
              "\n",
              "  [theme=dark] .colab-df-quickchart {\n",
              "      --bg-color: #3B4455;\n",
              "      --fill-color: #D2E3FC;\n",
              "      --hover-bg-color: #434B5C;\n",
              "      --hover-fill-color: #FFFFFF;\n",
              "      --disabled-bg-color: #3B4455;\n",
              "      --disabled-fill-color: #666;\n",
              "  }\n",
              "\n",
              "  .colab-df-quickchart {\n",
              "    background-color: var(--bg-color);\n",
              "    border: none;\n",
              "    border-radius: 50%;\n",
              "    cursor: pointer;\n",
              "    display: none;\n",
              "    fill: var(--fill-color);\n",
              "    height: 32px;\n",
              "    padding: 0;\n",
              "    width: 32px;\n",
              "  }\n",
              "\n",
              "  .colab-df-quickchart:hover {\n",
              "    background-color: var(--hover-bg-color);\n",
              "    box-shadow: 0 1px 2px rgba(60, 64, 67, 0.3), 0 1px 3px 1px rgba(60, 64, 67, 0.15);\n",
              "    fill: var(--button-hover-fill-color);\n",
              "  }\n",
              "\n",
              "  .colab-df-quickchart-complete:disabled,\n",
              "  .colab-df-quickchart-complete:disabled:hover {\n",
              "    background-color: var(--disabled-bg-color);\n",
              "    fill: var(--disabled-fill-color);\n",
              "    box-shadow: none;\n",
              "  }\n",
              "\n",
              "  .colab-df-spinner {\n",
              "    border: 2px solid var(--fill-color);\n",
              "    border-color: transparent;\n",
              "    border-bottom-color: var(--fill-color);\n",
              "    animation:\n",
              "      spin 1s steps(1) infinite;\n",
              "  }\n",
              "\n",
              "  @keyframes spin {\n",
              "    0% {\n",
              "      border-color: transparent;\n",
              "      border-bottom-color: var(--fill-color);\n",
              "      border-left-color: var(--fill-color);\n",
              "    }\n",
              "    20% {\n",
              "      border-color: transparent;\n",
              "      border-left-color: var(--fill-color);\n",
              "      border-top-color: var(--fill-color);\n",
              "    }\n",
              "    30% {\n",
              "      border-color: transparent;\n",
              "      border-left-color: var(--fill-color);\n",
              "      border-top-color: var(--fill-color);\n",
              "      border-right-color: var(--fill-color);\n",
              "    }\n",
              "    40% {\n",
              "      border-color: transparent;\n",
              "      border-right-color: var(--fill-color);\n",
              "      border-top-color: var(--fill-color);\n",
              "    }\n",
              "    60% {\n",
              "      border-color: transparent;\n",
              "      border-right-color: var(--fill-color);\n",
              "    }\n",
              "    80% {\n",
              "      border-color: transparent;\n",
              "      border-right-color: var(--fill-color);\n",
              "      border-bottom-color: var(--fill-color);\n",
              "    }\n",
              "    90% {\n",
              "      border-color: transparent;\n",
              "      border-bottom-color: var(--fill-color);\n",
              "    }\n",
              "  }\n",
              "</style>\n",
              "\n",
              "  <script>\n",
              "    async function quickchart(key) {\n",
              "      const quickchartButtonEl =\n",
              "        document.querySelector('#' + key + ' button');\n",
              "      quickchartButtonEl.disabled = true;  // To prevent multiple clicks.\n",
              "      quickchartButtonEl.classList.add('colab-df-spinner');\n",
              "      try {\n",
              "        const charts = await google.colab.kernel.invokeFunction(\n",
              "            'suggestCharts', [key], {});\n",
              "      } catch (error) {\n",
              "        console.error('Error during call to suggestCharts:', error);\n",
              "      }\n",
              "      quickchartButtonEl.classList.remove('colab-df-spinner');\n",
              "      quickchartButtonEl.classList.add('colab-df-quickchart-complete');\n",
              "    }\n",
              "    (() => {\n",
              "      let quickchartButtonEl =\n",
              "        document.querySelector('#df-a8c18069-71cb-458a-a827-908797fde301 button');\n",
              "      quickchartButtonEl.style.display =\n",
              "        google.colab.kernel.accessAllowed ? 'block' : 'none';\n",
              "    })();\n",
              "  </script>\n",
              "</div>\n",
              "    </div>\n",
              "  </div>\n"
            ]
          },
          "metadata": {},
          "execution_count": 6
        }
      ]
    },
    {
      "cell_type": "code",
      "source": [
        "test.head()"
      ],
      "metadata": {
        "colab": {
          "base_uri": "https://localhost:8080/",
          "height": 255
        },
        "id": "bcvR3uZu-jq0",
        "outputId": "c435f379-faff-44e6-8f5a-82f1d267070e"
      },
      "execution_count": null,
      "outputs": [
        {
          "output_type": "execute_result",
          "data": {
            "text/plain": [
              "   pixel0  pixel1  pixel2  pixel3  pixel4  pixel5  pixel6  pixel7  pixel8  \\\n",
              "0       0       0       0       0       0       0       0       0       0   \n",
              "1       0       0       0       0       0       0       0       0       0   \n",
              "2       0       0       0       0       0       0       0       0       0   \n",
              "3       0       0       0       0       0       0       0       0       0   \n",
              "4       0       0       0       0       0       0       0       0       0   \n",
              "\n",
              "   pixel9  ...  pixel774  pixel775  pixel776  pixel777  pixel778  pixel779  \\\n",
              "0       0  ...         0         0         0         0         0         0   \n",
              "1       0  ...         0         0         0         0         0         0   \n",
              "2       0  ...         0         0         0         0         0         0   \n",
              "3       0  ...         0         0         0         0         0         0   \n",
              "4       0  ...         0         0         0         0         0         0   \n",
              "\n",
              "   pixel780  pixel781  pixel782  pixel783  \n",
              "0         0         0         0         0  \n",
              "1         0         0         0         0  \n",
              "2         0         0         0         0  \n",
              "3         0         0         0         0  \n",
              "4         0         0         0         0  \n",
              "\n",
              "[5 rows x 784 columns]"
            ],
            "text/html": [
              "\n",
              "  <div id=\"df-ab20f98f-c7ae-402b-a7c7-444844c0da88\" class=\"colab-df-container\">\n",
              "    <div>\n",
              "<style scoped>\n",
              "    .dataframe tbody tr th:only-of-type {\n",
              "        vertical-align: middle;\n",
              "    }\n",
              "\n",
              "    .dataframe tbody tr th {\n",
              "        vertical-align: top;\n",
              "    }\n",
              "\n",
              "    .dataframe thead th {\n",
              "        text-align: right;\n",
              "    }\n",
              "</style>\n",
              "<table border=\"1\" class=\"dataframe\">\n",
              "  <thead>\n",
              "    <tr style=\"text-align: right;\">\n",
              "      <th></th>\n",
              "      <th>pixel0</th>\n",
              "      <th>pixel1</th>\n",
              "      <th>pixel2</th>\n",
              "      <th>pixel3</th>\n",
              "      <th>pixel4</th>\n",
              "      <th>pixel5</th>\n",
              "      <th>pixel6</th>\n",
              "      <th>pixel7</th>\n",
              "      <th>pixel8</th>\n",
              "      <th>pixel9</th>\n",
              "      <th>...</th>\n",
              "      <th>pixel774</th>\n",
              "      <th>pixel775</th>\n",
              "      <th>pixel776</th>\n",
              "      <th>pixel777</th>\n",
              "      <th>pixel778</th>\n",
              "      <th>pixel779</th>\n",
              "      <th>pixel780</th>\n",
              "      <th>pixel781</th>\n",
              "      <th>pixel782</th>\n",
              "      <th>pixel783</th>\n",
              "    </tr>\n",
              "  </thead>\n",
              "  <tbody>\n",
              "    <tr>\n",
              "      <th>0</th>\n",
              "      <td>0</td>\n",
              "      <td>0</td>\n",
              "      <td>0</td>\n",
              "      <td>0</td>\n",
              "      <td>0</td>\n",
              "      <td>0</td>\n",
              "      <td>0</td>\n",
              "      <td>0</td>\n",
              "      <td>0</td>\n",
              "      <td>0</td>\n",
              "      <td>...</td>\n",
              "      <td>0</td>\n",
              "      <td>0</td>\n",
              "      <td>0</td>\n",
              "      <td>0</td>\n",
              "      <td>0</td>\n",
              "      <td>0</td>\n",
              "      <td>0</td>\n",
              "      <td>0</td>\n",
              "      <td>0</td>\n",
              "      <td>0</td>\n",
              "    </tr>\n",
              "    <tr>\n",
              "      <th>1</th>\n",
              "      <td>0</td>\n",
              "      <td>0</td>\n",
              "      <td>0</td>\n",
              "      <td>0</td>\n",
              "      <td>0</td>\n",
              "      <td>0</td>\n",
              "      <td>0</td>\n",
              "      <td>0</td>\n",
              "      <td>0</td>\n",
              "      <td>0</td>\n",
              "      <td>...</td>\n",
              "      <td>0</td>\n",
              "      <td>0</td>\n",
              "      <td>0</td>\n",
              "      <td>0</td>\n",
              "      <td>0</td>\n",
              "      <td>0</td>\n",
              "      <td>0</td>\n",
              "      <td>0</td>\n",
              "      <td>0</td>\n",
              "      <td>0</td>\n",
              "    </tr>\n",
              "    <tr>\n",
              "      <th>2</th>\n",
              "      <td>0</td>\n",
              "      <td>0</td>\n",
              "      <td>0</td>\n",
              "      <td>0</td>\n",
              "      <td>0</td>\n",
              "      <td>0</td>\n",
              "      <td>0</td>\n",
              "      <td>0</td>\n",
              "      <td>0</td>\n",
              "      <td>0</td>\n",
              "      <td>...</td>\n",
              "      <td>0</td>\n",
              "      <td>0</td>\n",
              "      <td>0</td>\n",
              "      <td>0</td>\n",
              "      <td>0</td>\n",
              "      <td>0</td>\n",
              "      <td>0</td>\n",
              "      <td>0</td>\n",
              "      <td>0</td>\n",
              "      <td>0</td>\n",
              "    </tr>\n",
              "    <tr>\n",
              "      <th>3</th>\n",
              "      <td>0</td>\n",
              "      <td>0</td>\n",
              "      <td>0</td>\n",
              "      <td>0</td>\n",
              "      <td>0</td>\n",
              "      <td>0</td>\n",
              "      <td>0</td>\n",
              "      <td>0</td>\n",
              "      <td>0</td>\n",
              "      <td>0</td>\n",
              "      <td>...</td>\n",
              "      <td>0</td>\n",
              "      <td>0</td>\n",
              "      <td>0</td>\n",
              "      <td>0</td>\n",
              "      <td>0</td>\n",
              "      <td>0</td>\n",
              "      <td>0</td>\n",
              "      <td>0</td>\n",
              "      <td>0</td>\n",
              "      <td>0</td>\n",
              "    </tr>\n",
              "    <tr>\n",
              "      <th>4</th>\n",
              "      <td>0</td>\n",
              "      <td>0</td>\n",
              "      <td>0</td>\n",
              "      <td>0</td>\n",
              "      <td>0</td>\n",
              "      <td>0</td>\n",
              "      <td>0</td>\n",
              "      <td>0</td>\n",
              "      <td>0</td>\n",
              "      <td>0</td>\n",
              "      <td>...</td>\n",
              "      <td>0</td>\n",
              "      <td>0</td>\n",
              "      <td>0</td>\n",
              "      <td>0</td>\n",
              "      <td>0</td>\n",
              "      <td>0</td>\n",
              "      <td>0</td>\n",
              "      <td>0</td>\n",
              "      <td>0</td>\n",
              "      <td>0</td>\n",
              "    </tr>\n",
              "  </tbody>\n",
              "</table>\n",
              "<p>5 rows × 784 columns</p>\n",
              "</div>\n",
              "    <div class=\"colab-df-buttons\">\n",
              "\n",
              "  <div class=\"colab-df-container\">\n",
              "    <button class=\"colab-df-convert\" onclick=\"convertToInteractive('df-ab20f98f-c7ae-402b-a7c7-444844c0da88')\"\n",
              "            title=\"Convert this dataframe to an interactive table.\"\n",
              "            style=\"display:none;\">\n",
              "\n",
              "  <svg xmlns=\"http://www.w3.org/2000/svg\" height=\"24px\" viewBox=\"0 -960 960 960\">\n",
              "    <path d=\"M120-120v-720h720v720H120Zm60-500h600v-160H180v160Zm220 220h160v-160H400v160Zm0 220h160v-160H400v160ZM180-400h160v-160H180v160Zm440 0h160v-160H620v160ZM180-180h160v-160H180v160Zm440 0h160v-160H620v160Z\"/>\n",
              "  </svg>\n",
              "    </button>\n",
              "\n",
              "  <style>\n",
              "    .colab-df-container {\n",
              "      display:flex;\n",
              "      gap: 12px;\n",
              "    }\n",
              "\n",
              "    .colab-df-convert {\n",
              "      background-color: #E8F0FE;\n",
              "      border: none;\n",
              "      border-radius: 50%;\n",
              "      cursor: pointer;\n",
              "      display: none;\n",
              "      fill: #1967D2;\n",
              "      height: 32px;\n",
              "      padding: 0 0 0 0;\n",
              "      width: 32px;\n",
              "    }\n",
              "\n",
              "    .colab-df-convert:hover {\n",
              "      background-color: #E2EBFA;\n",
              "      box-shadow: 0px 1px 2px rgba(60, 64, 67, 0.3), 0px 1px 3px 1px rgba(60, 64, 67, 0.15);\n",
              "      fill: #174EA6;\n",
              "    }\n",
              "\n",
              "    .colab-df-buttons div {\n",
              "      margin-bottom: 4px;\n",
              "    }\n",
              "\n",
              "    [theme=dark] .colab-df-convert {\n",
              "      background-color: #3B4455;\n",
              "      fill: #D2E3FC;\n",
              "    }\n",
              "\n",
              "    [theme=dark] .colab-df-convert:hover {\n",
              "      background-color: #434B5C;\n",
              "      box-shadow: 0px 1px 3px 1px rgba(0, 0, 0, 0.15);\n",
              "      filter: drop-shadow(0px 1px 2px rgba(0, 0, 0, 0.3));\n",
              "      fill: #FFFFFF;\n",
              "    }\n",
              "  </style>\n",
              "\n",
              "    <script>\n",
              "      const buttonEl =\n",
              "        document.querySelector('#df-ab20f98f-c7ae-402b-a7c7-444844c0da88 button.colab-df-convert');\n",
              "      buttonEl.style.display =\n",
              "        google.colab.kernel.accessAllowed ? 'block' : 'none';\n",
              "\n",
              "      async function convertToInteractive(key) {\n",
              "        const element = document.querySelector('#df-ab20f98f-c7ae-402b-a7c7-444844c0da88');\n",
              "        const dataTable =\n",
              "          await google.colab.kernel.invokeFunction('convertToInteractive',\n",
              "                                                    [key], {});\n",
              "        if (!dataTable) return;\n",
              "\n",
              "        const docLinkHtml = 'Like what you see? Visit the ' +\n",
              "          '<a target=\"_blank\" href=https://colab.research.google.com/notebooks/data_table.ipynb>data table notebook</a>'\n",
              "          + ' to learn more about interactive tables.';\n",
              "        element.innerHTML = '';\n",
              "        dataTable['output_type'] = 'display_data';\n",
              "        await google.colab.output.renderOutput(dataTable, element);\n",
              "        const docLink = document.createElement('div');\n",
              "        docLink.innerHTML = docLinkHtml;\n",
              "        element.appendChild(docLink);\n",
              "      }\n",
              "    </script>\n",
              "  </div>\n",
              "\n",
              "\n",
              "<div id=\"df-f406abc0-3103-461d-8580-e7dc791df6c9\">\n",
              "  <button class=\"colab-df-quickchart\" onclick=\"quickchart('df-f406abc0-3103-461d-8580-e7dc791df6c9')\"\n",
              "            title=\"Suggest charts.\"\n",
              "            style=\"display:none;\">\n",
              "\n",
              "<svg xmlns=\"http://www.w3.org/2000/svg\" height=\"24px\"viewBox=\"0 0 24 24\"\n",
              "     width=\"24px\">\n",
              "    <g>\n",
              "        <path d=\"M19 3H5c-1.1 0-2 .9-2 2v14c0 1.1.9 2 2 2h14c1.1 0 2-.9 2-2V5c0-1.1-.9-2-2-2zM9 17H7v-7h2v7zm4 0h-2V7h2v10zm4 0h-2v-4h2v4z\"/>\n",
              "    </g>\n",
              "</svg>\n",
              "  </button>\n",
              "\n",
              "<style>\n",
              "  .colab-df-quickchart {\n",
              "      --bg-color: #E8F0FE;\n",
              "      --fill-color: #1967D2;\n",
              "      --hover-bg-color: #E2EBFA;\n",
              "      --hover-fill-color: #174EA6;\n",
              "      --disabled-fill-color: #AAA;\n",
              "      --disabled-bg-color: #DDD;\n",
              "  }\n",
              "\n",
              "  [theme=dark] .colab-df-quickchart {\n",
              "      --bg-color: #3B4455;\n",
              "      --fill-color: #D2E3FC;\n",
              "      --hover-bg-color: #434B5C;\n",
              "      --hover-fill-color: #FFFFFF;\n",
              "      --disabled-bg-color: #3B4455;\n",
              "      --disabled-fill-color: #666;\n",
              "  }\n",
              "\n",
              "  .colab-df-quickchart {\n",
              "    background-color: var(--bg-color);\n",
              "    border: none;\n",
              "    border-radius: 50%;\n",
              "    cursor: pointer;\n",
              "    display: none;\n",
              "    fill: var(--fill-color);\n",
              "    height: 32px;\n",
              "    padding: 0;\n",
              "    width: 32px;\n",
              "  }\n",
              "\n",
              "  .colab-df-quickchart:hover {\n",
              "    background-color: var(--hover-bg-color);\n",
              "    box-shadow: 0 1px 2px rgba(60, 64, 67, 0.3), 0 1px 3px 1px rgba(60, 64, 67, 0.15);\n",
              "    fill: var(--button-hover-fill-color);\n",
              "  }\n",
              "\n",
              "  .colab-df-quickchart-complete:disabled,\n",
              "  .colab-df-quickchart-complete:disabled:hover {\n",
              "    background-color: var(--disabled-bg-color);\n",
              "    fill: var(--disabled-fill-color);\n",
              "    box-shadow: none;\n",
              "  }\n",
              "\n",
              "  .colab-df-spinner {\n",
              "    border: 2px solid var(--fill-color);\n",
              "    border-color: transparent;\n",
              "    border-bottom-color: var(--fill-color);\n",
              "    animation:\n",
              "      spin 1s steps(1) infinite;\n",
              "  }\n",
              "\n",
              "  @keyframes spin {\n",
              "    0% {\n",
              "      border-color: transparent;\n",
              "      border-bottom-color: var(--fill-color);\n",
              "      border-left-color: var(--fill-color);\n",
              "    }\n",
              "    20% {\n",
              "      border-color: transparent;\n",
              "      border-left-color: var(--fill-color);\n",
              "      border-top-color: var(--fill-color);\n",
              "    }\n",
              "    30% {\n",
              "      border-color: transparent;\n",
              "      border-left-color: var(--fill-color);\n",
              "      border-top-color: var(--fill-color);\n",
              "      border-right-color: var(--fill-color);\n",
              "    }\n",
              "    40% {\n",
              "      border-color: transparent;\n",
              "      border-right-color: var(--fill-color);\n",
              "      border-top-color: var(--fill-color);\n",
              "    }\n",
              "    60% {\n",
              "      border-color: transparent;\n",
              "      border-right-color: var(--fill-color);\n",
              "    }\n",
              "    80% {\n",
              "      border-color: transparent;\n",
              "      border-right-color: var(--fill-color);\n",
              "      border-bottom-color: var(--fill-color);\n",
              "    }\n",
              "    90% {\n",
              "      border-color: transparent;\n",
              "      border-bottom-color: var(--fill-color);\n",
              "    }\n",
              "  }\n",
              "</style>\n",
              "\n",
              "  <script>\n",
              "    async function quickchart(key) {\n",
              "      const quickchartButtonEl =\n",
              "        document.querySelector('#' + key + ' button');\n",
              "      quickchartButtonEl.disabled = true;  // To prevent multiple clicks.\n",
              "      quickchartButtonEl.classList.add('colab-df-spinner');\n",
              "      try {\n",
              "        const charts = await google.colab.kernel.invokeFunction(\n",
              "            'suggestCharts', [key], {});\n",
              "      } catch (error) {\n",
              "        console.error('Error during call to suggestCharts:', error);\n",
              "      }\n",
              "      quickchartButtonEl.classList.remove('colab-df-spinner');\n",
              "      quickchartButtonEl.classList.add('colab-df-quickchart-complete');\n",
              "    }\n",
              "    (() => {\n",
              "      let quickchartButtonEl =\n",
              "        document.querySelector('#df-f406abc0-3103-461d-8580-e7dc791df6c9 button');\n",
              "      quickchartButtonEl.style.display =\n",
              "        google.colab.kernel.accessAllowed ? 'block' : 'none';\n",
              "    })();\n",
              "  </script>\n",
              "</div>\n",
              "    </div>\n",
              "  </div>\n"
            ]
          },
          "metadata": {},
          "execution_count": 7
        }
      ]
    },
    {
      "cell_type": "code",
      "source": [
        "y_train = train['label']\n",
        "X_train = train.drop(labels=['label'],axis = 1)"
      ],
      "metadata": {
        "id": "9ccS_Nt2-nWE"
      },
      "execution_count": null,
      "outputs": []
    },
    {
      "cell_type": "code",
      "source": [
        "plt.figure(figsize=(12,4))\n",
        "g = sns.countplot(x=y_train)\n",
        "plt.title(\"Numbers of digits classes\")\n",
        "print(y_train.value_counts())\n",
        "plt.show()"
      ],
      "metadata": {
        "colab": {
          "base_uri": "https://localhost:8080/",
          "height": 611
        },
        "id": "kZw8vr8e_DNz",
        "outputId": "92019b37-fd5a-46f8-b6d5-6de49d9f1cf4"
      },
      "execution_count": null,
      "outputs": [
        {
          "output_type": "stream",
          "name": "stdout",
          "text": [
            "1    4684\n",
            "7    4401\n",
            "3    4351\n",
            "9    4188\n",
            "2    4177\n",
            "6    4137\n",
            "0    4132\n",
            "4    4072\n",
            "8    4063\n",
            "5    3795\n",
            "Name: label, dtype: int64\n"
          ]
        },
        {
          "output_type": "display_data",
          "data": {
            "text/plain": [
              "<Figure size 1200x400 with 1 Axes>"
            ],
            "image/png": "[encoded data removed]"
          },
          "metadata": {}
        }
      ]
    },
    {
      "cell_type": "code",
      "source": [
        "print(type(y_train[0]))"
      ],
      "metadata": {
        "id": "bCRu3-XN3m00",
        "outputId": "520fbdfa-b847-4ffc-8adf-59866e80cf42",
        "colab": {
          "base_uri": "https://localhost:8080/"
        }
      },
      "execution_count": null,
      "outputs": [
        {
          "output_type": "stream",
          "name": "stdout",
          "text": [
            "<class 'numpy.int64'>\n"
          ]
        }
      ]
    },
    {
      "cell_type": "code",
      "source": [
        "# Display images\n",
        "\n",
        "fig, axs = plt.subplots(nrows= 3, ncols = 3, figsize = (10,10))\n",
        "ax = axs.ravel()\n",
        "for i in range(9):\n",
        "  data_image = X_train.iloc[i]\n",
        "  img = data_image.values\n",
        "  # img = img.as_matrix()\n",
        "  img = img.reshape((28,28))\n",
        "  ax[i].imshow(img,aspect=\"auto\")\n",
        "  # title = y_train[i].astype(str)\n",
        "  ax[i].set_title(y_train[i])\n",
        "fig.suptitle(\"Display train_images:\")\n",
        "plt.show()"
      ],
      "metadata": {
        "id": "EPYsmFY-wSbV",
        "outputId": "f32e9591-787b-4ac7-87b1-07dee850512e",
        "colab": {
          "base_uri": "https://localhost:8080/",
          "height": 930
        }
      },
      "execution_count": null,
      "outputs": [
        {
          "output_type": "display_data",
          "data": {
            "text/plain": [
              "<Figure size 1000x1000 with 9 Axes>"
            ],
            "image/png": "[encoded data removed]"
          },
          "metadata": {}
        }
      ]
    },
    {
      "cell_type": "markdown",
      "source": [
        "#Normalize, Reshape and Label Endcoding:\n",
        "Why do we have to do them?"
      ],
      "metadata": {
        "id": "wNsZEDId9lqx"
      }
    },
    {
      "cell_type": "markdown",
      "source": [
        "##Normalize data:\n",
        "\n",
        "\n",
        "1.   We normalize data with grayscale to reduce the effect of illumination's differences.\n",
        "2.   CNN model can work faster when we perform nomalization\n",
        "\n"
      ],
      "metadata": {
        "id": "Za6Hwlpc98ft"
      }
    },
    {
      "cell_type": "code",
      "source": [
        "X_train = X_train/255.0\n",
        "test = test/255.0\n",
        "\n",
        "print(f\"X_train shape: {X_train.shape}\")\n",
        "X_train.info()\n",
        "print(f\"\\nTest shape: {test.shape}\")\n",
        "test.info()"
      ],
      "metadata": {
        "colab": {
          "base_uri": "https://localhost:8080/"
        },
        "id": "WIqdMids8JWX",
        "outputId": "2467276e-28b5-48fb-b490-501097ec6389"
      },
      "execution_count": null,
      "outputs": [
        {
          "output_type": "stream",
          "name": "stdout",
          "text": [
            "X_train shape: (42000, 784)\n",
            "<class 'pandas.core.frame.DataFrame'>\n",
            "RangeIndex: 42000 entries, 0 to 41999\n",
            "Columns: 784 entries, pixel0 to pixel783\n",
            "dtypes: float64(784)\n",
            "memory usage: 251.2 MB\n",
            "\n",
            "Test shape: (28000, 784)\n",
            "<class 'pandas.core.frame.DataFrame'>\n",
            "RangeIndex: 28000 entries, 0 to 27999\n",
            "Columns: 784 entries, pixel0 to pixel783\n",
            "dtypes: float64(784)\n",
            "memory usage: 167.5 MB\n"
          ]
        }
      ]
    },
    {
      "cell_type": "markdown",
      "source": [
        "##Reshape data:\n",
        "\n",
        "\n",
        "1.   Train and test images are currently 2D matrix(28 x 28), we reshape all to 3D matrix(28 x 28 x 1)\n",
        "2.   Keras needs an extra dimension in the end which correspond to channels. Our images are gray scaled so it use only one channel.\n",
        "\n"
      ],
      "metadata": {
        "id": "c3Ff_h8qBFND"
      }
    },
    {
      "cell_type": "code",
      "source": [
        "X_train = X_train.values.reshape(-1,28,28,1)\n",
        "test = test.values.reshape(-1,28,28,1)\n",
        "print(f\"X_train: {X_train.shape}\")\n",
        "print(f\"y_train: {y_train.shape}\")"
      ],
      "metadata": {
        "colab": {
          "base_uri": "https://localhost:8080/"
        },
        "id": "iwBbgG3WA3H4",
        "outputId": "c48c42bf-4fe1-4039-cf15-7a0193e94d19"
      },
      "execution_count": null,
      "outputs": [
        {
          "output_type": "stream",
          "name": "stdout",
          "text": [
            "X_train: (42000, 28, 28, 1)\n",
            "y_train: (42000,)\n"
          ]
        }
      ]
    },
    {
      "cell_type": "markdown",
      "source": [
        "##Label Encoding:\n",
        "Encode labels to one hot vectors"
      ],
      "metadata": {
        "id": "DbybCjwCEX50"
      }
    },
    {
      "cell_type": "code",
      "source": [
        "import tensorflow"
      ],
      "metadata": {
        "id": "oIIBVutlFpK0"
      },
      "execution_count": null,
      "outputs": []
    },
    {
      "cell_type": "code",
      "source": [
        "print(tensorflow.__version__)"
      ],
      "metadata": {
        "colab": {
          "base_uri": "https://localhost:8080/"
        },
        "id": "dp1ueQUrsaMu",
        "outputId": "25931549-4526-4fe2-efa4-dd91155a2c60"
      },
      "execution_count": null,
      "outputs": [
        {
          "output_type": "stream",
          "name": "stdout",
          "text": [
            "2.12.0\n"
          ]
        }
      ]
    },
    {
      "cell_type": "code",
      "source": [
        "from tensorflow.keras import utils\n",
        "y_train = utils.to_categorical(y_train, num_classes = 10)"
      ],
      "metadata": {
        "id": "e8BucM1bEXg7"
      },
      "execution_count": null,
      "outputs": []
    },
    {
      "cell_type": "code",
      "source": [
        "print(y_train)"
      ],
      "metadata": {
        "colab": {
          "base_uri": "https://localhost:8080/"
        },
        "id": "jhBYketGF8Hj",
        "outputId": "09e910b1-0728-4792-9513-45221c133bca"
      },
      "execution_count": null,
      "outputs": [
        {
          "output_type": "stream",
          "name": "stdout",
          "text": [
            "[[0. 1. 0. ... 0. 0. 0.]\n",
            " [1. 0. 0. ... 0. 0. 0.]\n",
            " [0. 1. 0. ... 0. 0. 0.]\n",
            " ...\n",
            " [0. 0. 0. ... 1. 0. 0.]\n",
            " [0. 0. 0. ... 0. 0. 0.]\n",
            " [0. 0. 0. ... 0. 0. 1.]]\n"
          ]
        }
      ]
    },
    {
      "cell_type": "markdown",
      "source": [
        "#Train Test split\n"
      ],
      "metadata": {
        "id": "thh_VpkIGW67"
      }
    },
    {
      "cell_type": "code",
      "source": [
        "from sklearn.model_selection import train_test_split\n",
        "X_train, X_val, y_train, y_val = train_test_split(X_train, y_train,test_size = 0.1,random_state =2)"
      ],
      "metadata": {
        "id": "1i5UTTN9Gcob"
      },
      "execution_count": null,
      "outputs": []
    },
    {
      "cell_type": "code",
      "source": [
        "print(f\"X_train.shape: {X_train.shape}\")\n",
        "print(f\"y_train.shape: {y_train.shape}\")\n",
        "print(f\"\\nX_val.shape: {X_val.shape}\")\n",
        "print(f\"y_val.shape: {y_val.shape}\")\n"
      ],
      "metadata": {
        "colab": {
          "base_uri": "https://localhost:8080/"
        },
        "id": "8VybHOnxHREv",
        "outputId": "4573aabd-3bc6-40be-9cb0-8daef99769c1"
      },
      "execution_count": null,
      "outputs": [
        {
          "output_type": "stream",
          "name": "stdout",
          "text": [
            "X_train.shape: (37800, 28, 28, 1)\n",
            "y_train.shape: (37800, 10)\n",
            "\n",
            "X_val.shape: (4200, 28, 28, 1)\n",
            "y_val.shape: (4200, 10)\n"
          ]
        }
      ]
    },
    {
      "cell_type": "code",
      "source": [
        "fig, axs = plt.subplots(nrows = 3, ncols = 3, figsize=(15,15))\n",
        "axs = axs.ravel()\n",
        "for i in range(9):\n",
        "  axs[i].imshow(X_train[i][:,:,0])\n",
        "  axs[i].set_title(f\"{y_train[i]} \\n {np.argmax(y_train[i])}\")\n",
        "fig.suptitle(\"Data image\")"
      ],
      "metadata": {
        "id": "hdYhyha4uOv9",
        "outputId": "dc911740-f992-442f-9390-d4ee9b8ec566",
        "colab": {
          "base_uri": "https://localhost:8080/",
          "height": 1000
        }
      },
      "execution_count": null,
      "outputs": [
        {
          "output_type": "execute_result",
          "data": {
            "text/plain": [
              "Text(0.5, 0.98, 'Data image')"
            ]
          },
          "metadata": {},
          "execution_count": 21
        },
        {
          "output_type": "display_data",
          "data": {
            "text/plain": [
              "<Figure size 1500x1500 with 9 Axes>"
            ],
            "image/png": "[encoded data removed]"
          },
          "metadata": {}
        }
      ]
    },
    {
      "cell_type": "markdown",
      "source": [
        "#Build model:"
      ],
      "metadata": {
        "id": "q6XCGkaJy0u2"
      }
    },
    {
      "cell_type": "markdown",
      "source": [
        "##Architecture of model:\n",
        " Conv2D  --> MaxPool2D --> Drop out --> Conv2D --> MaxPool2D\n",
        "--> Drop out --> Fully connected(Relu, Softmax)\n",
        "\n",
        "\n",
        "\n",
        "\n",
        "\n",
        "\n",
        "\n"
      ],
      "metadata": {
        "id": "KN5_bw24y_1h"
      }
    },
    {
      "cell_type": "code",
      "source": [
        "from sklearn.metrics import confusion_matrix\n",
        "import itertools"
      ],
      "metadata": {
        "id": "8PNT4rSly0EV"
      },
      "execution_count": null,
      "outputs": []
    },
    {
      "cell_type": "code",
      "source": [
        "from keras.utils import to_categorical\n",
        "from keras.models import Sequential\n",
        "from keras.layers import Dense, Dropout, Flatten, Conv2D, MaxPool2D\n",
        "from keras.preprocessing.image import ImageDataGenerator\n",
        "from keras.callbacks import ReduceLROnPlateau\n",
        "from tensorflow.keras.optimizers import Adam"
      ],
      "metadata": {
        "id": "_fkZv9cx2h6c"
      },
      "execution_count": null,
      "outputs": []
    },
    {
      "cell_type": "markdown",
      "source": [
        "## Create model:"
      ],
      "metadata": {
        "id": "s36DdgzCLeKj"
      }
    },
    {
      "cell_type": "code",
      "source": [
        "model = Sequential()\n",
        "model.add(Conv2D(filters = 8, kernel_size= (5,5), padding = 'Same', activation = 'relu', input_shape = (28,28,1)))\n",
        "model.add(MaxPool2D(pool_size = (2,2)))\n",
        "model.add(Dropout(0.25))\n",
        "\n",
        "model.add(Conv2D(filters = 16, kernel_size= (3,3), padding = 'Same', activation = 'relu'))\n",
        "model.add(MaxPool2D(pool_size = (2,2), strides = (2,2)))\n",
        "model.add(Dropout(0.25))\n",
        "\n",
        "#fully connected\n",
        "model.add(Flatten())\n",
        "model.add(Dense(256, activation = 'relu'))\n",
        "model.add(Dropout(0.5))\n",
        "model.add(Dense(10, activation = 'softmax'))"
      ],
      "metadata": {
        "id": "GjstpSzHLjM2"
      },
      "execution_count": null,
      "outputs": []
    },
    {
      "cell_type": "code",
      "source": [
        "optimizer = Adam(lr = 0.001, beta_1 = 0.9, beta_2 = 0.999)"
      ],
      "metadata": {
        "id": "yz3iidS3Ooex",
        "outputId": "11d53ed4-42d4-4a9c-fae0-5a3efc7b0671",
        "colab": {
          "base_uri": "https://localhost:8080/"
        }
      },
      "execution_count": null,
      "outputs": [
        {
          "output_type": "stream",
          "name": "stderr",
          "text": [
            "WARNING:absl:`lr` is deprecated in Keras optimizer, please use `learning_rate` or use the legacy optimizer, e.g.,tf.keras.optimizers.legacy.Adam.\n"
          ]
        }
      ]
    },
    {
      "cell_type": "code",
      "source": [
        "model.compile(optimizer = optimizer, loss = \"categorical_crossentropy\", metrics = [\"accuracy\"])"
      ],
      "metadata": {
        "id": "osxs2JRCPhQI"
      },
      "execution_count": null,
      "outputs": []
    },
    {
      "cell_type": "markdown",
      "source": [
        "###Epochs and Batch Size"
      ],
      "metadata": {
        "id": "L8UiEJt5QU08"
      }
    },
    {
      "cell_type": "code",
      "source": [
        "epochs = 30\n",
        "batch_size = 128 # 2^x"
      ],
      "metadata": {
        "id": "JWoOue3uQaM-"
      },
      "execution_count": null,
      "outputs": []
    },
    {
      "cell_type": "markdown",
      "source": [
        "##Visualize model:"
      ],
      "metadata": {
        "id": "IbEn8wZFs3EG"
      }
    },
    {
      "cell_type": "code",
      "source": [
        "model.summary()"
      ],
      "metadata": {
        "colab": {
          "base_uri": "https://localhost:8080/"
        },
        "id": "VuwUhcPQs5Xj",
        "outputId": "ea967fd9-5bb8-4505-e81f-1f18ad44f436"
      },
      "execution_count": null,
      "outputs": [
        {
          "output_type": "stream",
          "name": "stdout",
          "text": [
            "Model: \"sequential\"\n",
            "_________________________________________________________________\n",
            " Layer (type)                Output Shape              Param #   \n",
            "=================================================================\n",
            " conv2d (Conv2D)             (None, 28, 28, 8)         208       \n",
            "                                                                 \n",
            " max_pooling2d (MaxPooling2D  (None, 14, 14, 8)        0         \n",
            " )                                                               \n",
            "                                                                 \n",
            " dropout (Dropout)           (None, 14, 14, 8)         0         \n",
            "                                                                 \n",
            " conv2d_1 (Conv2D)           (None, 14, 14, 16)        1168      \n",
            "                                                                 \n",
            " max_pooling2d_1 (MaxPooling  (None, 7, 7, 16)         0         \n",
            " 2D)                                                             \n",
            "                                                                 \n",
            " dropout_1 (Dropout)         (None, 7, 7, 16)          0         \n",
            "                                                                 \n",
            " flatten (Flatten)           (None, 784)               0         \n",
            "                                                                 \n",
            " dense (Dense)               (None, 256)               200960    \n",
            "                                                                 \n",
            " dropout_2 (Dropout)         (None, 256)               0         \n",
            "                                                                 \n",
            " dense_1 (Dense)             (None, 10)                2570      \n",
            "                                                                 \n",
            "=================================================================\n",
            "Total params: 204,906\n",
            "Trainable params: 204,906\n",
            "Non-trainable params: 0\n",
            "_________________________________________________________________\n"
          ]
        }
      ]
    },
    {
      "cell_type": "code",
      "source": [
        "from tensorflow.keras.utils import plot_model\n",
        "plot_model(model, to_file = 'digits_model.png',show_shapes = True)"
      ],
      "metadata": {
        "colab": {
          "base_uri": "https://localhost:8080/",
          "height": 1000
        },
        "id": "ELVnYwQPs-wu",
        "outputId": "7a8bebff-4836-429d-cfcd-8069eb456800"
      },
      "execution_count": null,
      "outputs": [
        {
          "output_type": "execute_result",
          "data": {
            "image/png": "[encoded data removed]",
            "text/plain": [
              "<IPython.core.display.Image object>"
            ]
          },
          "metadata": {},
          "execution_count": 29
        }
      ]
    },
    {
      "cell_type": "markdown",
      "source": [
        "#Data augmentation:\n",
        "\n",
        "\n",
        "*   We perform data augmentation to create more data in a lot of situation, then we can avoid overfiting data.\n",
        "*   Ex: rotate image, zoom, cut, flip, ....\n",
        "Note that: Don't flip vertically, becaue fliping vertically 6 is 9\n",
        "\n"
      ],
      "metadata": {
        "id": "h_0FZ2dQRNcX"
      }
    },
    {
      "cell_type": "code",
      "source": [
        "datagen = ImageDataGenerator(\n",
        "        featurewise_center=False,  # set input mean to 0 over the dataset\n",
        "        samplewise_center=False,  # set each sample mean to 0\n",
        "        featurewise_std_normalization=False,  # divide inputs by std of the dataset\n",
        "        samplewise_std_normalization=False,  # divide each input by its std\n",
        "        zca_whitening=False,  # dimesion reduction\n",
        "        rotation_range=5,  # randomly rotate images in the range 5 degrees\n",
        "        zoom_range = 0.1, # Randomly zoom image 10%\n",
        "        width_shift_range=0.1,  # randomly shift images horizontally 10%\n",
        "        height_shift_range=0.1,  # randomly shift images vertically 10%\n",
        "        horizontal_flip=False,  # randomly flip images\n",
        "        vertical_flip=False)  # randomly flip images\n",
        "datagen.fit(X_train)"
      ],
      "metadata": {
        "id": "GuPyKOrVQUd8"
      },
      "execution_count": null,
      "outputs": []
    },
    {
      "cell_type": "code",
      "source": [
        "print(X_train.shape)"
      ],
      "metadata": {
        "id": "igZw-qYYUt8L",
        "outputId": "8546e5ad-ff98-4e50-d2b1-2baa216238fb",
        "colab": {
          "base_uri": "https://localhost:8080/"
        }
      },
      "execution_count": null,
      "outputs": [
        {
          "output_type": "stream",
          "name": "stdout",
          "text": [
            "(37800, 28, 28, 1)\n"
          ]
        }
      ]
    },
    {
      "cell_type": "code",
      "source": [
        "history1 = model.fit_generator(datagen.flow(X_train,y_train,batch_size = batch_size),epochs = epochs,\n",
        "                                validation_data = (X_val,y_val), steps_per_epoch = X_train.shape[0]//batch_size)"
      ],
      "metadata": {
        "id": "uuFDw5WMU75Q",
        "outputId": "ffd65dd6-4a7a-476c-ef79-f3db6fe4bc86",
        "colab": {
          "base_uri": "https://localhost:8080/"
        }
      },
      "execution_count": null,
      "outputs": [
        {
          "output_type": "stream",
          "name": "stdout",
          "text": [
            "Epoch 1/30\n"
          ]
        },
        {
          "output_type": "stream",
          "name": "stderr",
          "text": [
            "<ipython-input-32-33a387a8a4e3>:1: UserWarning: `Model.fit_generator` is deprecated and will be removed in a future version. Please use `Model.fit`, which supports generators.\n",
            "  history1 = model.fit_generator(datagen.flow(X_train,y_train,batch_size = batch_size),epochs = epochs,\n"
          ]
        },
        {
          "output_type": "stream",
          "name": "stdout",
          "text": [
            "295/295 [==============================] - 44s 146ms/step - loss: 0.9062 - accuracy: 0.6977 - val_loss: 0.1569 - val_accuracy: 0.9581\n",
            "Epoch 2/30\n",
            "295/295 [==============================] - 42s 143ms/step - loss: 0.3521 - accuracy: 0.8888 - val_loss: 0.1042 - val_accuracy: 0.9717\n",
            "Epoch 3/30\n",
            "295/295 [==============================] - 42s 142ms/step - loss: 0.2698 - accuracy: 0.9163 - val_loss: 0.0855 - val_accuracy: 0.9738\n",
            "Epoch 4/30\n",
            "295/295 [==============================] - 47s 159ms/step - loss: 0.2286 - accuracy: 0.9298 - val_loss: 0.0739 - val_accuracy: 0.9779\n",
            "Epoch 5/30\n",
            "295/295 [==============================] - 43s 144ms/step - loss: 0.2071 - accuracy: 0.9354 - val_loss: 0.0651 - val_accuracy: 0.9817\n",
            "Epoch 6/30\n",
            "295/295 [==============================] - 43s 147ms/step - loss: 0.1912 - accuracy: 0.9406 - val_loss: 0.0618 - val_accuracy: 0.9819\n",
            "Epoch 7/30\n",
            "295/295 [==============================] - 44s 150ms/step - loss: 0.1791 - accuracy: 0.9452 - val_loss: 0.0595 - val_accuracy: 0.9831\n",
            "Epoch 8/30\n",
            "295/295 [==============================] - 45s 151ms/step - loss: 0.1675 - accuracy: 0.9495 - val_loss: 0.0540 - val_accuracy: 0.9850\n",
            "Epoch 9/30\n",
            "295/295 [==============================] - 42s 142ms/step - loss: 0.1558 - accuracy: 0.9522 - val_loss: 0.0492 - val_accuracy: 0.9857\n",
            "Epoch 10/30\n",
            "295/295 [==============================] - 42s 143ms/step - loss: 0.1535 - accuracy: 0.9524 - val_loss: 0.0481 - val_accuracy: 0.9855\n",
            "Epoch 11/30\n",
            "295/295 [==============================] - 42s 142ms/step - loss: 0.1451 - accuracy: 0.9557 - val_loss: 0.0477 - val_accuracy: 0.9867\n",
            "Epoch 12/30\n",
            "295/295 [==============================] - 42s 142ms/step - loss: 0.1384 - accuracy: 0.9583 - val_loss: 0.0478 - val_accuracy: 0.9850\n",
            "Epoch 13/30\n",
            "295/295 [==============================] - 42s 142ms/step - loss: 0.1325 - accuracy: 0.9587 - val_loss: 0.0453 - val_accuracy: 0.9857\n",
            "Epoch 14/30\n",
            "295/295 [==============================] - 44s 147ms/step - loss: 0.1290 - accuracy: 0.9600 - val_loss: 0.0440 - val_accuracy: 0.9867\n",
            "Epoch 15/30\n",
            "295/295 [==============================] - 46s 154ms/step - loss: 0.1247 - accuracy: 0.9631 - val_loss: 0.0408 - val_accuracy: 0.9876\n",
            "Epoch 16/30\n",
            "295/295 [==============================] - 44s 150ms/step - loss: 0.1261 - accuracy: 0.9609 - val_loss: 0.0385 - val_accuracy: 0.9898\n",
            "Epoch 17/30\n",
            "295/295 [==============================] - 42s 142ms/step - loss: 0.1149 - accuracy: 0.9652 - val_loss: 0.0399 - val_accuracy: 0.9869\n",
            "Epoch 18/30\n",
            "295/295 [==============================] - 43s 145ms/step - loss: 0.1217 - accuracy: 0.9625 - val_loss: 0.0386 - val_accuracy: 0.9890\n",
            "Epoch 19/30\n",
            "295/295 [==============================] - 42s 142ms/step - loss: 0.1174 - accuracy: 0.9637 - val_loss: 0.0393 - val_accuracy: 0.9881\n",
            "Epoch 20/30\n",
            "295/295 [==============================] - 42s 143ms/step - loss: 0.1148 - accuracy: 0.9648 - val_loss: 0.0389 - val_accuracy: 0.9883\n",
            "Epoch 21/30\n",
            "295/295 [==============================] - 43s 145ms/step - loss: 0.1135 - accuracy: 0.9651 - val_loss: 0.0386 - val_accuracy: 0.9890\n",
            "Epoch 22/30\n",
            "295/295 [==============================] - 42s 143ms/step - loss: 0.1072 - accuracy: 0.9659 - val_loss: 0.0348 - val_accuracy: 0.9898\n",
            "Epoch 23/30\n",
            "295/295 [==============================] - 49s 167ms/step - loss: 0.1108 - accuracy: 0.9653 - val_loss: 0.0357 - val_accuracy: 0.9888\n",
            "Epoch 24/30\n",
            "295/295 [==============================] - 42s 141ms/step - loss: 0.1069 - accuracy: 0.9676 - val_loss: 0.0357 - val_accuracy: 0.9898\n",
            "Epoch 25/30\n",
            "295/295 [==============================] - 41s 140ms/step - loss: 0.1041 - accuracy: 0.9681 - val_loss: 0.0362 - val_accuracy: 0.9890\n",
            "Epoch 26/30\n",
            "295/295 [==============================] - 42s 142ms/step - loss: 0.1025 - accuracy: 0.9686 - val_loss: 0.0339 - val_accuracy: 0.9893\n",
            "Epoch 27/30\n",
            "295/295 [==============================] - 42s 141ms/step - loss: 0.1029 - accuracy: 0.9675 - val_loss: 0.0315 - val_accuracy: 0.9898\n",
            "Epoch 28/30\n",
            "295/295 [==============================] - 44s 148ms/step - loss: 0.1042 - accuracy: 0.9684 - val_loss: 0.0312 - val_accuracy: 0.9900\n",
            "Epoch 29/30\n",
            "295/295 [==============================] - 42s 143ms/step - loss: 0.0994 - accuracy: 0.9696 - val_loss: 0.0333 - val_accuracy: 0.9902\n",
            "Epoch 30/30\n",
            "295/295 [==============================] - 44s 148ms/step - loss: 0.0960 - accuracy: 0.9695 - val_loss: 0.0334 - val_accuracy: 0.9898\n"
          ]
        }
      ]
    },
    {
      "cell_type": "markdown",
      "source": [
        "#Predicted test_data with model:\n"
      ],
      "metadata": {
        "id": "bnwE8ZvzdYg_"
      }
    },
    {
      "cell_type": "code",
      "source": [
        "res = model.predict(test)"
      ],
      "metadata": {
        "id": "XuSp2Ks5dYCp",
        "outputId": "748f045d-fd90-48e2-e97e-dab990344afe",
        "colab": {
          "base_uri": "https://localhost:8080/"
        }
      },
      "execution_count": null,
      "outputs": [
        {
          "output_type": "stream",
          "name": "stdout",
          "text": [
            "875/875 [==============================] - 11s 12ms/step\n"
          ]
        }
      ]
    },
    {
      "cell_type": "code",
      "source": [
        "res = np.argmax(res, axis = 1)"
      ],
      "metadata": {
        "id": "eir_qgKfd-OQ"
      },
      "execution_count": null,
      "outputs": []
    },
    {
      "cell_type": "code",
      "source": [
        "fig, axs = plt.subplots(nrows = 3, ncols = 3, figsize = (10,10))\n",
        "axs = axs.ravel()\n",
        "for i in range(9):\n",
        "  axs[i].imshow(test[i][:,:,0])\n",
        "  axs[i].set_title(res[i])\n",
        "fig.suptitle(\"Result of prediction:\")"
      ],
      "metadata": {
        "id": "GN5RQWpveLTg",
        "outputId": "41de07af-6a3b-4cb8-c826-c415cf64e765",
        "colab": {
          "base_uri": "https://localhost:8080/",
          "height": 948
        }
      },
      "execution_count": null,
      "outputs": [
        {
          "output_type": "execute_result",
          "data": {
            "text/plain": [
              "Text(0.5, 0.98, 'Result of prediction:')"
            ]
          },
          "metadata": {},
          "execution_count": 36
        },
        {
          "output_type": "display_data",
          "data": {
            "text/plain": [
              "<Figure size 1000x1000 with 9 Axes>"
            ],
            "image/png": "[encoded data removed]"
          },
          "metadata": {}
        }
      ]
    },
    {
      "cell_type": "markdown",
      "source": [
        "##Evaluate model:\n",
        "We will evaluate this model with loss and accuracy of validation data"
      ],
      "metadata": {
        "id": "wmm9zi95UsKT"
      }
    },
    {
      "cell_type": "code",
      "source": [
        "history1.history"
      ],
      "metadata": {
        "colab": {
          "base_uri": "https://localhost:8080/"
        },
        "id": "wPeCMAKpqLQA",
        "outputId": "4bfc406c-08ce-4e88-afe7-d86cac80eeaf"
      },
      "execution_count": null,
      "outputs": [
        {
          "output_type": "execute_result",
          "data": {
            "text/plain": [
              "{'loss': [0.9061594009399414,\n",
              "  0.35212454199790955,\n",
              "  0.26980775594711304,\n",
              "  0.2286270409822464,\n",
              "  0.20710308849811554,\n",
              "  0.19115671515464783,\n",
              "  0.17909960448741913,\n",
              "  0.1674506515264511,\n",
              "  0.15582425892353058,\n",
              "  0.1534750908613205,\n",
              "  0.14506785571575165,\n",
              "  0.13836558163166046,\n",
              "  0.1325034499168396,\n",
              "  0.1289772242307663,\n",
              "  0.12465404719114304,\n",
              "  0.12610600888729095,\n",
              "  0.11489618569612503,\n",
              "  0.12169481068849564,\n",
              "  0.11736764758825302,\n",
              "  0.1148356944322586,\n",
              "  0.11354559659957886,\n",
              "  0.10724594444036484,\n",
              "  0.11079408973455429,\n",
              "  0.10688681900501251,\n",
              "  0.10407858341932297,\n",
              "  0.1024913340806961,\n",
              "  0.10286350548267365,\n",
              "  0.10421231389045715,\n",
              "  0.09943686425685883,\n",
              "  0.09600076824426651],\n",
              " 'accuracy': [0.6977330446243286,\n",
              "  0.8888033628463745,\n",
              "  0.9162773489952087,\n",
              "  0.9297621846199036,\n",
              "  0.9354162216186523,\n",
              "  0.9405659437179565,\n",
              "  0.9451847672462463,\n",
              "  0.9495115876197815,\n",
              "  0.9521926045417786,\n",
              "  0.9523518681526184,\n",
              "  0.9556699991226196,\n",
              "  0.9582979679107666,\n",
              "  0.9587226510047913,\n",
              "  0.9599702954292297,\n",
              "  0.9631025791168213,\n",
              "  0.9608993530273438,\n",
              "  0.9651995897293091,\n",
              "  0.962492048740387,\n",
              "  0.9636865854263306,\n",
              "  0.9647749066352844,\n",
              "  0.965146541595459,\n",
              "  0.9659163355827332,\n",
              "  0.9653323292732239,\n",
              "  0.9675621390342712,\n",
              "  0.9681460857391357,\n",
              "  0.9686239361763,\n",
              "  0.9675090312957764,\n",
              "  0.9684115648269653,\n",
              "  0.9695795178413391,\n",
              "  0.9695264101028442],\n",
              " 'val_loss': [0.15685488283634186,\n",
              "  0.10420649498701096,\n",
              "  0.08547915518283844,\n",
              "  0.07391904294490814,\n",
              "  0.06509513407945633,\n",
              "  0.06175898388028145,\n",
              "  0.059489570558071136,\n",
              "  0.054039061069488525,\n",
              "  0.04917818307876587,\n",
              "  0.04808281362056732,\n",
              "  0.04773087427020073,\n",
              "  0.04784701019525528,\n",
              "  0.04530997574329376,\n",
              "  0.0439632348716259,\n",
              "  0.04080944135785103,\n",
              "  0.038548994809389114,\n",
              "  0.03990042954683304,\n",
              "  0.03860434889793396,\n",
              "  0.03928058221936226,\n",
              "  0.03892600163817406,\n",
              "  0.038569286465644836,\n",
              "  0.034786757081747055,\n",
              "  0.03565317019820213,\n",
              "  0.035688623785972595,\n",
              "  0.03616054356098175,\n",
              "  0.033889077603816986,\n",
              "  0.03147454559803009,\n",
              "  0.03118246980011463,\n",
              "  0.03332971781492233,\n",
              "  0.03336748480796814],\n",
              " 'val_accuracy': [0.9580952525138855,\n",
              "  0.971666693687439,\n",
              "  0.973809540271759,\n",
              "  0.9778571724891663,\n",
              "  0.9816666841506958,\n",
              "  0.9819047451019287,\n",
              "  0.9830952286720276,\n",
              "  0.9850000143051147,\n",
              "  0.9857142567634583,\n",
              "  0.9854761958122253,\n",
              "  0.9866666793823242,\n",
              "  0.9850000143051147,\n",
              "  0.9857142567634583,\n",
              "  0.9866666793823242,\n",
              "  0.9876190423965454,\n",
              "  0.9897618889808655,\n",
              "  0.9869047403335571,\n",
              "  0.989047646522522,\n",
              "  0.988095223903656,\n",
              "  0.9883333444595337,\n",
              "  0.989047646522522,\n",
              "  0.9897618889808655,\n",
              "  0.9888095259666443,\n",
              "  0.9897618889808655,\n",
              "  0.989047646522522,\n",
              "  0.9892857074737549,\n",
              "  0.9897618889808655,\n",
              "  0.9900000095367432,\n",
              "  0.9902380704879761,\n",
              "  0.9897618889808655]}"
            ]
          },
          "metadata": {},
          "execution_count": 37
        }
      ]
    },
    {
      "cell_type": "code",
      "source": [
        "fig,ax = plt.subplots(nrows = 1, ncols = 2,figsize=(15,8))\n",
        "ax = ax.ravel()\n",
        "#val_loss\n",
        "ax[0].plot(history1.history['val_loss'],color = 'b',label = 'validation loss')\n",
        "ax[0].set_title(\"Test Loss\")\n",
        "ax[0].set(xlabel = \"Number of epochs\", ylabel = \"Loss\")\n",
        "ax[0].legend()\n",
        "\n",
        "#val_accuracy\n",
        "ax[1].plot(history1.history['val_accuracy'],color = 'r',label = 'validation accuracy')\n",
        "ax[1].set_title(\"Test accuracy\")\n",
        "ax[1].set(xlabel = \"Number of epochs\", ylabel = \"Accuracy\")\n",
        "ax[1].legend()\n",
        "\n",
        "plt.show()"
      ],
      "metadata": {
        "id": "b3D-MFv_Uu02",
        "outputId": "0037e8c9-5143-4011-ee5a-f24ea076b946",
        "colab": {
          "base_uri": "https://localhost:8080/",
          "height": 707
        }
      },
      "execution_count": null,
      "outputs": [
        {
          "output_type": "display_data",
          "data": {
            "text/plain": [
              "<Figure size 1500x800 with 2 Axes>"
            ],
            "image/png": "[encoded data removed]"
          },
          "metadata": {}
        }
      ]
    },
    {
      "cell_type": "markdown",
      "source": [
        "##Save the model:"
      ],
      "metadata": {
        "id": "xU4t6-Mec2Tv"
      }
    },
    {
      "cell_type": "code",
      "source": [
        "from tensorflow.keras.models import load_model"
      ],
      "metadata": {
        "id": "nvvpVKSoDFBU"
      },
      "execution_count": null,
      "outputs": []
    },
    {
      "cell_type": "code",
      "source": [
        "#with h5 file\n",
        "model.save('/content/drive/MyDrive/Tài liệu học kì 1 năm 3/Open_source/Project/data/saved_model1.h5')"
      ],
      "metadata": {
        "id": "9uTyvILfc5OL"
      },
      "execution_count": null,
      "outputs": []
    },
    {
      "cell_type": "code",
      "source": [
        "saved_model = load_model('/content/drive/MyDrive/Tài liệu học kì 1 năm 3/Open_source/Project/data/saved_model1.h5')"
      ],
      "metadata": {
        "id": "qGkWU8ONHsm9"
      },
      "execution_count": null,
      "outputs": []
    },
    {
      "cell_type": "code",
      "source": [
        "res_of_SModel = saved_model.predict(test)"
      ],
      "metadata": {
        "id": "v1gQxJAEIMNu",
        "outputId": "547ad2ca-b2e0-40ac-af15-baf07227b1d7",
        "colab": {
          "base_uri": "https://localhost:8080/"
        }
      },
      "execution_count": null,
      "outputs": [
        {
          "output_type": "stream",
          "name": "stdout",
          "text": [
            "875/875 [==============================] - 17s 19ms/step\n"
          ]
        }
      ]
    },
    {
      "cell_type": "code",
      "source": [
        "res_of_SModel = np.argmax(res_of_SModel, axis = 1)"
      ],
      "metadata": {
        "id": "yachULGvsFd1"
      },
      "execution_count": null,
      "outputs": []
    },
    {
      "cell_type": "code",
      "source": [
        "fig, axs = plt.subplots(nrows = 3, ncols = 3, figsize = (10,10))\n",
        "axs = axs.ravel()\n",
        "for i in range(9):\n",
        "  axs[i].imshow(test[i][:,:,0])\n",
        "  axs[i].set_title(res_of_SModel[i])\n",
        "fig.suptitle(\"Result of prediction:\")"
      ],
      "metadata": {
        "id": "R1_hLevGIi7Q",
        "outputId": "8aad6e7f-6ada-4ccc-994e-3ada5d556b95",
        "colab": {
          "base_uri": "https://localhost:8080/",
          "height": 948
        }
      },
      "execution_count": null,
      "outputs": [
        {
          "output_type": "execute_result",
          "data": {
            "text/plain": [
              "Text(0.5, 0.98, 'Result of prediction:')"
            ]
          },
          "metadata": {},
          "execution_count": 45
        },
        {
          "output_type": "display_data",
          "data": {
            "text/plain": [
              "<Figure size 1000x1000 with 9 Axes>"
            ],
            "image/png": "[encoded data removed]"
          },
          "metadata": {}
        }
      ]
    },
    {
      "cell_type": "code",
      "source": [
        "import pickle"
      ],
      "metadata": {
        "id": "GIxK0IBYsvPl"
      },
      "execution_count": null,
      "outputs": []
    },
    {
      "cell_type": "code",
      "source": [
        "print(pickle.format_version)"
      ],
      "metadata": {
        "colab": {
          "base_uri": "https://localhost:8080/"
        },
        "id": "kiI8HmbisxEu",
        "outputId": "ce9d6e5b-ca3a-43f5-a003-34daedb0ad4e"
      },
      "execution_count": null,
      "outputs": [
        {
          "output_type": "stream",
          "name": "stdout",
          "text": [
            "4.0\n"
          ]
        }
      ]
    },
    {
      "cell_type": "code",
      "source": [
        "#save model with pickle\n",
        "with open('/content/drive/MyDrive/Tài liệu học kì 1 năm 3/Open_source/Project/data/saved_model1.pkl','wb') as f:\n",
        "  pickle.dump(model,f)"
      ],
      "metadata": {
        "id": "vrBXfANmJHp1"
      },
      "execution_count": null,
      "outputs": []
    },
    {
      "cell_type": "code",
      "source": [
        "#open saved_model with pikle\n",
        "with open('/content/drive/MyDrive/Tài liệu học kì 1 năm 3/Open_source/Project/data/saved_model1.pkl','rb') as f:\n",
        "  saved_model_pkl = pickle.load(f)"
      ],
      "metadata": {
        "id": "tIQvXl4DJqM5"
      },
      "execution_count": null,
      "outputs": []
    },
    {
      "cell_type": "code",
      "source": [
        "res_of_SModel_pkl = saved_model_pkl.predict(test)\n",
        "res_of_SModel_pkl = np.argmax(res_of_SModel_pkl,axis = 1)\n",
        "print(res_of_SModel_pkl)"
      ],
      "metadata": {
        "id": "JaPFbUwLJ_H2",
        "outputId": "1c7e8080-4a1c-4ea3-d818-090c01da7921",
        "colab": {
          "base_uri": "https://localhost:8080/"
        }
      },
      "execution_count": null,
      "outputs": [
        {
          "output_type": "stream",
          "name": "stdout",
          "text": [
            "875/875 [==============================] - 12s 13ms/step\n",
            "[2 0 9 ... 3 9 2]\n"
          ]
        }
      ]
    },
    {
      "cell_type": "markdown",
      "source": [
        "#Test with an image"
      ],
      "metadata": {
        "id": "I2Gd1YVIXNrE"
      }
    },
    {
      "cell_type": "code",
      "source": [
        "import cv2"
      ],
      "metadata": {
        "id": "KdsiLWc7XiA6"
      },
      "execution_count": null,
      "outputs": []
    },
    {
      "cell_type": "code",
      "source": [
        "original_img = cv2.imread('/content/drive/MyDrive/Tài liệu học kì 1 năm 3/Open_source/Project/data//test_image.png',1)\n",
        "img = cv2.imread('/content/drive/MyDrive/Tài liệu học kì 1 năm 3/Open_source/Project/data//test_image.png',0)\n",
        "# cv2.imshow(\"picture:\",img)\n",
        "img = cv2.adaptiveThreshold(img,255,cv2.ADAPTIVE_THRESH_GAUSSIAN_C,\\\n",
        "            cv2.THRESH_BINARY,11,2)\n",
        "\n",
        "# cv2.imshow(\"picture after thresh_gaussian\",pic)\n",
        "ret,pic = cv2.threshold(img,200,255,cv2.THRESH_BINARY)\n",
        "# cv2.imshow(\"picture after all processing\",pic)\n",
        "\n",
        "pic = 255-pic\n",
        "pic_scaled = pic/255.0\n",
        "\n",
        "pic_scaled = pic.reshape(-1,28,28,1)"
      ],
      "metadata": {
        "id": "-jrBu4_dXQY4"
      },
      "execution_count": null,
      "outputs": []
    },
    {
      "cell_type": "code",
      "source": [
        "fig,axis = plt.subplots(nrows = 1, ncols = 2,figsize = (10,8))\n",
        "ax = axis.ravel()\n",
        "ax[0].imshow(original_img)\n",
        "ax[0].set_title(\"Original image:\")\n",
        "\n",
        "ax[1].imshow(pic,cmap='gray')\n",
        "ax[1].set_title(\"Image after processing:\")\n",
        "plt.show()"
      ],
      "metadata": {
        "id": "4DNpNBCuEKsx",
        "outputId": "a7df582a-5703-4950-f063-dbc03c870e2b",
        "colab": {
          "base_uri": "https://localhost:8080/",
          "height": 435
        }
      },
      "execution_count": null,
      "outputs": [
        {
          "output_type": "display_data",
          "data": {
            "text/plain": [
              "<Figure size 1000x800 with 2 Axes>"
            ],
            "image/png": "[encoded data removed]"
          },
          "metadata": {}
        }
      ]
    },
    {
      "cell_type": "code",
      "source": [
        "tmp = saved_model.predict(pic_scaled)\n",
        "pic_predict = np.argmax(tmp,axis=1)\n",
        "print(f\"Number of prediction: {pic_predict}\")\n",
        "# cv2.waitKey(0)\n",
        "# cv2.destroyWindow()"
      ],
      "metadata": {
        "id": "bo6vkxocXrAv",
        "outputId": "81d60be3-db99-4218-dc38-286d2bd023c6",
        "colab": {
          "base_uri": "https://localhost:8080/"
        }
      },
      "execution_count": null,
      "outputs": [
        {
          "output_type": "stream",
          "name": "stdout",
          "text": [
            "1/1 [==============================] - 0s 138ms/step\n",
            "Number of prediction: [5]\n"
          ]
        }
      ]
    }
  ]
}
