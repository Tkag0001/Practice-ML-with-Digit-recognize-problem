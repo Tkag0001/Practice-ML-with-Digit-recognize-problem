{
  "nbformat": 4,
  "nbformat_minor": 0,
  "metadata": {
    "colab": {
      "provenance": [],
      "mount_file_id": "1QMYnUKNNiTUZFIwBeH1esWahZNimk95F",
      "authorship_tag": "ABX9TyNiVXqJpQrDHxcI+oPVtn51",
      "include_colab_link": true
    },
    "kernelspec": {
      "name": "python3",
      "display_name": "Python 3"
    },
    "language_info": {
      "name": "python"
    },
    "accelerator": "TPU"
  },
  "cells": [
    {
      "cell_type": "markdown",
      "metadata": {
        "id": "view-in-github",
        "colab_type": "text"
      },
      "source": [
        "<a href=\"https://colab.research.google.com/github/Tkag0001/Practice-ML-with-Digit-recognize-problem/blob/main/code/Train_model.ipynb\" target=\"_parent\"><img src=\"https://colab.research.google.com/assets/colab-badge.svg\" alt=\"Open In Colab\"/></a>"
      ]
    },
    {
      "cell_type": "markdown",
      "source": [
        "#Problem: Recognizing handwritten digits\n",
        "Data resources: https://www.kaggle.com/c/digit-recognizer"
      ],
      "metadata": {
        "id": "eoVLzSiv19_D"
      }
    },
    {
      "cell_type": "markdown",
      "source": [
        "#Connect to drive:"
      ],
      "metadata": {
        "id": "528HACLA1tYB"
      }
    },
    {
      "cell_type": "code",
      "execution_count": 15,
      "metadata": {
        "colab": {
          "base_uri": "https://localhost:8080/"
        },
        "id": "dA2gae_I06DB",
        "outputId": "8190cb80-d0be-46a1-c39f-e92d11a6b414"
      },
      "outputs": [
        {
          "output_type": "stream",
          "name": "stdout",
          "text": [
            "Drive already mounted at /content/drive; to attempt to forcibly remount, call drive.mount(\"/content/drive\", force_remount=True).\n"
          ]
        }
      ],
      "source": [
        "from google.colab import drive\n",
        "drive.mount(\"/content/drive\")"
      ]
    },
    {
      "cell_type": "markdown",
      "source": [
        "#Import packages:"
      ],
      "metadata": {
        "id": "FFsUKggp3Ew4"
      }
    },
    {
      "cell_type": "code",
      "source": [
        "import numpy as np\n",
        "import seaborn as sns\n",
        "import pandas as pd\n",
        "import matplotlib\n",
        "import matplotlib.pyplot as plt"
      ],
      "metadata": {
        "id": "yCRHPdap1yKA"
      },
      "execution_count": 16,
      "outputs": []
    },
    {
      "cell_type": "code",
      "source": [
        "print(np.__version__)\n",
        "print(sns.__version__)\n",
        "print(pd.__version__)\n",
        "print(matplotlib.__version__)"
      ],
      "metadata": {
        "colab": {
          "base_uri": "https://localhost:8080/"
        },
        "id": "xijgb8QJo8ZP",
        "outputId": "ee7e76ff-4ed1-401e-e47a-3c87bfdb7d5b"
      },
      "execution_count": null,
      "outputs": [
        {
          "output_type": "stream",
          "name": "stdout",
          "text": [
            "1.23.5\n",
            "0.12.2\n",
            "1.5.3\n",
            "3.7.1\n"
          ]
        }
      ]
    },
    {
      "cell_type": "markdown",
      "source": [
        "#Loading the dataset:\n"
      ],
      "metadata": {
        "id": "6VVFK12E3esx"
      }
    },
    {
      "cell_type": "markdown",
      "source": [
        "unzip data"
      ],
      "metadata": {
        "id": "S0v5E9Md4Bm7"
      }
    },
    {
      "cell_type": "code",
      "source": [
        "!unzip '/content/drive/MyDrive/Tài liệu học kì 1 năm 3/Open_source/Project/data/digit-recognizer.zip' -d '/content/drive/MyDrive/Tài liệu học kì 1 năm 3/Open_source/Project/data'"
      ],
      "metadata": {
        "colab": {
          "base_uri": "https://localhost:8080/"
        },
        "id": "fvtov09I3clP",
        "outputId": "26bbb6d4-71af-499f-a2a4-3a8ee992fa98"
      },
      "execution_count": null,
      "outputs": [
        {
          "output_type": "stream",
          "name": "stdout",
          "text": [
            "Archive:  /content/drive/MyDrive/Tài liệu học kì 1 năm 3/Open_source/Project/data/digit-recognizer.zip\n",
            "  inflating: /content/drive/MyDrive/Tài liệu học kì 1 năm 3/Open_source/Project/data/sample_submission.csv  \n",
            "  inflating: /content/drive/MyDrive/Tài liệu học kì 1 năm 3/Open_source/Project/data/test.csv  \n",
            "  inflating: /content/drive/MyDrive/Tài liệu học kì 1 năm 3/Open_source/Project/data/train.csv  \n"
          ]
        }
      ]
    },
    {
      "cell_type": "markdown",
      "source": [
        "## Note: pls change url to your data folder"
      ],
      "metadata": {
        "id": "yTRIMTY6vQ0_"
      }
    },
    {
      "cell_type": "code",
      "source": [
        "train = pd.read_csv('/content/drive/MyDrive/Tài liệu học kì 1 năm 3/Open_source/Project/data/train.csv')\n",
        "test = pd.read_csv('/content/drive/MyDrive/Tài liệu học kì 1 năm 3/Open_source/Project/data/test.csv')"
      ],
      "metadata": {
        "id": "Wx_pLLMD4zTq"
      },
      "execution_count": null,
      "outputs": []
    },
    {
      "cell_type": "code",
      "source": [
        "print(f\"train size: {train.shape}\")\n",
        "print(f\"test size: {test.shape}\")"
      ],
      "metadata": {
        "colab": {
          "base_uri": "https://localhost:8080/"
        },
        "id": "wpoPO8QB953i",
        "outputId": "97e945a4-67b3-4979-9c43-db4795f76646"
      },
      "execution_count": null,
      "outputs": [
        {
          "output_type": "stream",
          "name": "stdout",
          "text": [
            "train size: (42000, 785)\n",
            "test size: (28000, 784)\n"
          ]
        }
      ]
    },
    {
      "cell_type": "markdown",
      "source": [
        "#Visualize data"
      ],
      "metadata": {
        "id": "-t6lpUv64kOs"
      }
    },
    {
      "cell_type": "code",
      "source": [
        "train.head()"
      ],
      "metadata": {
        "colab": {
          "base_uri": "https://localhost:8080/",
          "height": 236
        },
        "id": "g8k8Djwd4fBM",
        "outputId": "9dd218c5-73a1-45a6-edad-72826cf0f984"
      },
      "execution_count": null,
      "outputs": [
        {
          "output_type": "execute_result",
          "data": {
            "text/plain": [
              "   label  pixel0  pixel1  pixel2  pixel3  pixel4  pixel5  pixel6  pixel7  \\\n",
              "0      1       0       0       0       0       0       0       0       0   \n",
              "1      0       0       0       0       0       0       0       0       0   \n",
              "2      1       0       0       0       0       0       0       0       0   \n",
              "3      4       0       0       0       0       0       0       0       0   \n",
              "4      0       0       0       0       0       0       0       0       0   \n",
              "\n",
              "   pixel8  ...  pixel774  pixel775  pixel776  pixel777  pixel778  pixel779  \\\n",
              "0       0  ...         0         0         0         0         0         0   \n",
              "1       0  ...         0         0         0         0         0         0   \n",
              "2       0  ...         0         0         0         0         0         0   \n",
              "3       0  ...         0         0         0         0         0         0   \n",
              "4       0  ...         0         0         0         0         0         0   \n",
              "\n",
              "   pixel780  pixel781  pixel782  pixel783  \n",
              "0         0         0         0         0  \n",
              "1         0         0         0         0  \n",
              "2         0         0         0         0  \n",
              "3         0         0         0         0  \n",
              "4         0         0         0         0  \n",
              "\n",
              "[5 rows x 785 columns]"
            ],
            "text/html": [
              "\n",
              "  <div id=\"df-c742da2b-6c82-40de-9114-4abc7ff8b972\" class=\"colab-df-container\">\n",
              "    <div>\n",
              "<style scoped>\n",
              "    .dataframe tbody tr th:only-of-type {\n",
              "        vertical-align: middle;\n",
              "    }\n",
              "\n",
              "    .dataframe tbody tr th {\n",
              "        vertical-align: top;\n",
              "    }\n",
              "\n",
              "    .dataframe thead th {\n",
              "        text-align: right;\n",
              "    }\n",
              "</style>\n",
              "<table border=\"1\" class=\"dataframe\">\n",
              "  <thead>\n",
              "    <tr style=\"text-align: right;\">\n",
              "      <th></th>\n",
              "      <th>label</th>\n",
              "      <th>pixel0</th>\n",
              "      <th>pixel1</th>\n",
              "      <th>pixel2</th>\n",
              "      <th>pixel3</th>\n",
              "      <th>pixel4</th>\n",
              "      <th>pixel5</th>\n",
              "      <th>pixel6</th>\n",
              "      <th>pixel7</th>\n",
              "      <th>pixel8</th>\n",
              "      <th>...</th>\n",
              "      <th>pixel774</th>\n",
              "      <th>pixel775</th>\n",
              "      <th>pixel776</th>\n",
              "      <th>pixel777</th>\n",
              "      <th>pixel778</th>\n",
              "      <th>pixel779</th>\n",
              "      <th>pixel780</th>\n",
              "      <th>pixel781</th>\n",
              "      <th>pixel782</th>\n",
              "      <th>pixel783</th>\n",
              "    </tr>\n",
              "  </thead>\n",
              "  <tbody>\n",
              "    <tr>\n",
              "      <th>0</th>\n",
              "      <td>1</td>\n",
              "      <td>0</td>\n",
              "      <td>0</td>\n",
              "      <td>0</td>\n",
              "      <td>0</td>\n",
              "      <td>0</td>\n",
              "      <td>0</td>\n",
              "      <td>0</td>\n",
              "      <td>0</td>\n",
              "      <td>0</td>\n",
              "      <td>...</td>\n",
              "      <td>0</td>\n",
              "      <td>0</td>\n",
              "      <td>0</td>\n",
              "      <td>0</td>\n",
              "      <td>0</td>\n",
              "      <td>0</td>\n",
              "      <td>0</td>\n",
              "      <td>0</td>\n",
              "      <td>0</td>\n",
              "      <td>0</td>\n",
              "    </tr>\n",
              "    <tr>\n",
              "      <th>1</th>\n",
              "      <td>0</td>\n",
              "      <td>0</td>\n",
              "      <td>0</td>\n",
              "      <td>0</td>\n",
              "      <td>0</td>\n",
              "      <td>0</td>\n",
              "      <td>0</td>\n",
              "      <td>0</td>\n",
              "      <td>0</td>\n",
              "      <td>0</td>\n",
              "      <td>...</td>\n",
              "      <td>0</td>\n",
              "      <td>0</td>\n",
              "      <td>0</td>\n",
              "      <td>0</td>\n",
              "      <td>0</td>\n",
              "      <td>0</td>\n",
              "      <td>0</td>\n",
              "      <td>0</td>\n",
              "      <td>0</td>\n",
              "      <td>0</td>\n",
              "    </tr>\n",
              "    <tr>\n",
              "      <th>2</th>\n",
              "      <td>1</td>\n",
              "      <td>0</td>\n",
              "      <td>0</td>\n",
              "      <td>0</td>\n",
              "      <td>0</td>\n",
              "      <td>0</td>\n",
              "      <td>0</td>\n",
              "      <td>0</td>\n",
              "      <td>0</td>\n",
              "      <td>0</td>\n",
              "      <td>...</td>\n",
              "      <td>0</td>\n",
              "      <td>0</td>\n",
              "      <td>0</td>\n",
              "      <td>0</td>\n",
              "      <td>0</td>\n",
              "      <td>0</td>\n",
              "      <td>0</td>\n",
              "      <td>0</td>\n",
              "      <td>0</td>\n",
              "      <td>0</td>\n",
              "    </tr>\n",
              "    <tr>\n",
              "      <th>3</th>\n",
              "      <td>4</td>\n",
              "      <td>0</td>\n",
              "      <td>0</td>\n",
              "      <td>0</td>\n",
              "      <td>0</td>\n",
              "      <td>0</td>\n",
              "      <td>0</td>\n",
              "      <td>0</td>\n",
              "      <td>0</td>\n",
              "      <td>0</td>\n",
              "      <td>...</td>\n",
              "      <td>0</td>\n",
              "      <td>0</td>\n",
              "      <td>0</td>\n",
              "      <td>0</td>\n",
              "      <td>0</td>\n",
              "      <td>0</td>\n",
              "      <td>0</td>\n",
              "      <td>0</td>\n",
              "      <td>0</td>\n",
              "      <td>0</td>\n",
              "    </tr>\n",
              "    <tr>\n",
              "      <th>4</th>\n",
              "      <td>0</td>\n",
              "      <td>0</td>\n",
              "      <td>0</td>\n",
              "      <td>0</td>\n",
              "      <td>0</td>\n",
              "      <td>0</td>\n",
              "      <td>0</td>\n",
              "      <td>0</td>\n",
              "      <td>0</td>\n",
              "      <td>0</td>\n",
              "      <td>...</td>\n",
              "      <td>0</td>\n",
              "      <td>0</td>\n",
              "      <td>0</td>\n",
              "      <td>0</td>\n",
              "      <td>0</td>\n",
              "      <td>0</td>\n",
              "      <td>0</td>\n",
              "      <td>0</td>\n",
              "      <td>0</td>\n",
              "      <td>0</td>\n",
              "    </tr>\n",
              "  </tbody>\n",
              "</table>\n",
              "<p>5 rows × 785 columns</p>\n",
              "</div>\n",
              "    <div class=\"colab-df-buttons\">\n",
              "\n",
              "  <div class=\"colab-df-container\">\n",
              "    <button class=\"colab-df-convert\" onclick=\"convertToInteractive('df-c742da2b-6c82-40de-9114-4abc7ff8b972')\"\n",
              "            title=\"Convert this dataframe to an interactive table.\"\n",
              "            style=\"display:none;\">\n",
              "\n",
              "  <svg xmlns=\"http://www.w3.org/2000/svg\" height=\"24px\" viewBox=\"0 -960 960 960\">\n",
              "    <path d=\"M120-120v-720h720v720H120Zm60-500h600v-160H180v160Zm220 220h160v-160H400v160Zm0 220h160v-160H400v160ZM180-400h160v-160H180v160Zm440 0h160v-160H620v160ZM180-180h160v-160H180v160Zm440 0h160v-160H620v160Z\"/>\n",
              "  </svg>\n",
              "    </button>\n",
              "\n",
              "  <style>\n",
              "    .colab-df-container {\n",
              "      display:flex;\n",
              "      gap: 12px;\n",
              "    }\n",
              "\n",
              "    .colab-df-convert {\n",
              "      background-color: #E8F0FE;\n",
              "      border: none;\n",
              "      border-radius: 50%;\n",
              "      cursor: pointer;\n",
              "      display: none;\n",
              "      fill: #1967D2;\n",
              "      height: 32px;\n",
              "      padding: 0 0 0 0;\n",
              "      width: 32px;\n",
              "    }\n",
              "\n",
              "    .colab-df-convert:hover {\n",
              "      background-color: #E2EBFA;\n",
              "      box-shadow: 0px 1px 2px rgba(60, 64, 67, 0.3), 0px 1px 3px 1px rgba(60, 64, 67, 0.15);\n",
              "      fill: #174EA6;\n",
              "    }\n",
              "\n",
              "    .colab-df-buttons div {\n",
              "      margin-bottom: 4px;\n",
              "    }\n",
              "\n",
              "    [theme=dark] .colab-df-convert {\n",
              "      background-color: #3B4455;\n",
              "      fill: #D2E3FC;\n",
              "    }\n",
              "\n",
              "    [theme=dark] .colab-df-convert:hover {\n",
              "      background-color: #434B5C;\n",
              "      box-shadow: 0px 1px 3px 1px rgba(0, 0, 0, 0.15);\n",
              "      filter: drop-shadow(0px 1px 2px rgba(0, 0, 0, 0.3));\n",
              "      fill: #FFFFFF;\n",
              "    }\n",
              "  </style>\n",
              "\n",
              "    <script>\n",
              "      const buttonEl =\n",
              "        document.querySelector('#df-c742da2b-6c82-40de-9114-4abc7ff8b972 button.colab-df-convert');\n",
              "      buttonEl.style.display =\n",
              "        google.colab.kernel.accessAllowed ? 'block' : 'none';\n",
              "\n",
              "      async function convertToInteractive(key) {\n",
              "        const element = document.querySelector('#df-c742da2b-6c82-40de-9114-4abc7ff8b972');\n",
              "        const dataTable =\n",
              "          await google.colab.kernel.invokeFunction('convertToInteractive',\n",
              "                                                    [key], {});\n",
              "        if (!dataTable) return;\n",
              "\n",
              "        const docLinkHtml = 'Like what you see? Visit the ' +\n",
              "          '<a target=\"_blank\" href=https://colab.research.google.com/notebooks/data_table.ipynb>data table notebook</a>'\n",
              "          + ' to learn more about interactive tables.';\n",
              "        element.innerHTML = '';\n",
              "        dataTable['output_type'] = 'display_data';\n",
              "        await google.colab.output.renderOutput(dataTable, element);\n",
              "        const docLink = document.createElement('div');\n",
              "        docLink.innerHTML = docLinkHtml;\n",
              "        element.appendChild(docLink);\n",
              "      }\n",
              "    </script>\n",
              "  </div>\n",
              "\n",
              "\n",
              "<div id=\"df-c5291a20-ea4a-4b0a-af8a-cc552a5561d3\">\n",
              "  <button class=\"colab-df-quickchart\" onclick=\"quickchart('df-c5291a20-ea4a-4b0a-af8a-cc552a5561d3')\"\n",
              "            title=\"Suggest charts.\"\n",
              "            style=\"display:none;\">\n",
              "\n",
              "<svg xmlns=\"http://www.w3.org/2000/svg\" height=\"24px\"viewBox=\"0 0 24 24\"\n",
              "     width=\"24px\">\n",
              "    <g>\n",
              "        <path d=\"M19 3H5c-1.1 0-2 .9-2 2v14c0 1.1.9 2 2 2h14c1.1 0 2-.9 2-2V5c0-1.1-.9-2-2-2zM9 17H7v-7h2v7zm4 0h-2V7h2v10zm4 0h-2v-4h2v4z\"/>\n",
              "    </g>\n",
              "</svg>\n",
              "  </button>\n",
              "\n",
              "<style>\n",
              "  .colab-df-quickchart {\n",
              "      --bg-color: #E8F0FE;\n",
              "      --fill-color: #1967D2;\n",
              "      --hover-bg-color: #E2EBFA;\n",
              "      --hover-fill-color: #174EA6;\n",
              "      --disabled-fill-color: #AAA;\n",
              "      --disabled-bg-color: #DDD;\n",
              "  }\n",
              "\n",
              "  [theme=dark] .colab-df-quickchart {\n",
              "      --bg-color: #3B4455;\n",
              "      --fill-color: #D2E3FC;\n",
              "      --hover-bg-color: #434B5C;\n",
              "      --hover-fill-color: #FFFFFF;\n",
              "      --disabled-bg-color: #3B4455;\n",
              "      --disabled-fill-color: #666;\n",
              "  }\n",
              "\n",
              "  .colab-df-quickchart {\n",
              "    background-color: var(--bg-color);\n",
              "    border: none;\n",
              "    border-radius: 50%;\n",
              "    cursor: pointer;\n",
              "    display: none;\n",
              "    fill: var(--fill-color);\n",
              "    height: 32px;\n",
              "    padding: 0;\n",
              "    width: 32px;\n",
              "  }\n",
              "\n",
              "  .colab-df-quickchart:hover {\n",
              "    background-color: var(--hover-bg-color);\n",
              "    box-shadow: 0 1px 2px rgba(60, 64, 67, 0.3), 0 1px 3px 1px rgba(60, 64, 67, 0.15);\n",
              "    fill: var(--button-hover-fill-color);\n",
              "  }\n",
              "\n",
              "  .colab-df-quickchart-complete:disabled,\n",
              "  .colab-df-quickchart-complete:disabled:hover {\n",
              "    background-color: var(--disabled-bg-color);\n",
              "    fill: var(--disabled-fill-color);\n",
              "    box-shadow: none;\n",
              "  }\n",
              "\n",
              "  .colab-df-spinner {\n",
              "    border: 2px solid var(--fill-color);\n",
              "    border-color: transparent;\n",
              "    border-bottom-color: var(--fill-color);\n",
              "    animation:\n",
              "      spin 1s steps(1) infinite;\n",
              "  }\n",
              "\n",
              "  @keyframes spin {\n",
              "    0% {\n",
              "      border-color: transparent;\n",
              "      border-bottom-color: var(--fill-color);\n",
              "      border-left-color: var(--fill-color);\n",
              "    }\n",
              "    20% {\n",
              "      border-color: transparent;\n",
              "      border-left-color: var(--fill-color);\n",
              "      border-top-color: var(--fill-color);\n",
              "    }\n",
              "    30% {\n",
              "      border-color: transparent;\n",
              "      border-left-color: var(--fill-color);\n",
              "      border-top-color: var(--fill-color);\n",
              "      border-right-color: var(--fill-color);\n",
              "    }\n",
              "    40% {\n",
              "      border-color: transparent;\n",
              "      border-right-color: var(--fill-color);\n",
              "      border-top-color: var(--fill-color);\n",
              "    }\n",
              "    60% {\n",
              "      border-color: transparent;\n",
              "      border-right-color: var(--fill-color);\n",
              "    }\n",
              "    80% {\n",
              "      border-color: transparent;\n",
              "      border-right-color: var(--fill-color);\n",
              "      border-bottom-color: var(--fill-color);\n",
              "    }\n",
              "    90% {\n",
              "      border-color: transparent;\n",
              "      border-bottom-color: var(--fill-color);\n",
              "    }\n",
              "  }\n",
              "</style>\n",
              "\n",
              "  <script>\n",
              "    async function quickchart(key) {\n",
              "      const quickchartButtonEl =\n",
              "        document.querySelector('#' + key + ' button');\n",
              "      quickchartButtonEl.disabled = true;  // To prevent multiple clicks.\n",
              "      quickchartButtonEl.classList.add('colab-df-spinner');\n",
              "      try {\n",
              "        const charts = await google.colab.kernel.invokeFunction(\n",
              "            'suggestCharts', [key], {});\n",
              "      } catch (error) {\n",
              "        console.error('Error during call to suggestCharts:', error);\n",
              "      }\n",
              "      quickchartButtonEl.classList.remove('colab-df-spinner');\n",
              "      quickchartButtonEl.classList.add('colab-df-quickchart-complete');\n",
              "    }\n",
              "    (() => {\n",
              "      let quickchartButtonEl =\n",
              "        document.querySelector('#df-c5291a20-ea4a-4b0a-af8a-cc552a5561d3 button');\n",
              "      quickchartButtonEl.style.display =\n",
              "        google.colab.kernel.accessAllowed ? 'block' : 'none';\n",
              "    })();\n",
              "  </script>\n",
              "</div>\n",
              "    </div>\n",
              "  </div>\n"
            ]
          },
          "metadata": {},
          "execution_count": 5
        }
      ]
    },
    {
      "cell_type": "code",
      "source": [
        "test.head()"
      ],
      "metadata": {
        "colab": {
          "base_uri": "https://localhost:8080/",
          "height": 236
        },
        "id": "bcvR3uZu-jq0",
        "outputId": "7d1b3cfa-fb98-462d-a41f-4cb0de06fd69"
      },
      "execution_count": null,
      "outputs": [
        {
          "output_type": "execute_result",
          "data": {
            "text/plain": [
              "   pixel0  pixel1  pixel2  pixel3  pixel4  pixel5  pixel6  pixel7  pixel8  \\\n",
              "0       0       0       0       0       0       0       0       0       0   \n",
              "1       0       0       0       0       0       0       0       0       0   \n",
              "2       0       0       0       0       0       0       0       0       0   \n",
              "3       0       0       0       0       0       0       0       0       0   \n",
              "4       0       0       0       0       0       0       0       0       0   \n",
              "\n",
              "   pixel9  ...  pixel774  pixel775  pixel776  pixel777  pixel778  pixel779  \\\n",
              "0       0  ...         0         0         0         0         0         0   \n",
              "1       0  ...         0         0         0         0         0         0   \n",
              "2       0  ...         0         0         0         0         0         0   \n",
              "3       0  ...         0         0         0         0         0         0   \n",
              "4       0  ...         0         0         0         0         0         0   \n",
              "\n",
              "   pixel780  pixel781  pixel782  pixel783  \n",
              "0         0         0         0         0  \n",
              "1         0         0         0         0  \n",
              "2         0         0         0         0  \n",
              "3         0         0         0         0  \n",
              "4         0         0         0         0  \n",
              "\n",
              "[5 rows x 784 columns]"
            ],
            "text/html": [
              "\n",
              "  <div id=\"df-e37611f6-23fe-4433-825b-41cfde9860e1\" class=\"colab-df-container\">\n",
              "    <div>\n",
              "<style scoped>\n",
              "    .dataframe tbody tr th:only-of-type {\n",
              "        vertical-align: middle;\n",
              "    }\n",
              "\n",
              "    .dataframe tbody tr th {\n",
              "        vertical-align: top;\n",
              "    }\n",
              "\n",
              "    .dataframe thead th {\n",
              "        text-align: right;\n",
              "    }\n",
              "</style>\n",
              "<table border=\"1\" class=\"dataframe\">\n",
              "  <thead>\n",
              "    <tr style=\"text-align: right;\">\n",
              "      <th></th>\n",
              "      <th>pixel0</th>\n",
              "      <th>pixel1</th>\n",
              "      <th>pixel2</th>\n",
              "      <th>pixel3</th>\n",
              "      <th>pixel4</th>\n",
              "      <th>pixel5</th>\n",
              "      <th>pixel6</th>\n",
              "      <th>pixel7</th>\n",
              "      <th>pixel8</th>\n",
              "      <th>pixel9</th>\n",
              "      <th>...</th>\n",
              "      <th>pixel774</th>\n",
              "      <th>pixel775</th>\n",
              "      <th>pixel776</th>\n",
              "      <th>pixel777</th>\n",
              "      <th>pixel778</th>\n",
              "      <th>pixel779</th>\n",
              "      <th>pixel780</th>\n",
              "      <th>pixel781</th>\n",
              "      <th>pixel782</th>\n",
              "      <th>pixel783</th>\n",
              "    </tr>\n",
              "  </thead>\n",
              "  <tbody>\n",
              "    <tr>\n",
              "      <th>0</th>\n",
              "      <td>0</td>\n",
              "      <td>0</td>\n",
              "      <td>0</td>\n",
              "      <td>0</td>\n",
              "      <td>0</td>\n",
              "      <td>0</td>\n",
              "      <td>0</td>\n",
              "      <td>0</td>\n",
              "      <td>0</td>\n",
              "      <td>0</td>\n",
              "      <td>...</td>\n",
              "      <td>0</td>\n",
              "      <td>0</td>\n",
              "      <td>0</td>\n",
              "      <td>0</td>\n",
              "      <td>0</td>\n",
              "      <td>0</td>\n",
              "      <td>0</td>\n",
              "      <td>0</td>\n",
              "      <td>0</td>\n",
              "      <td>0</td>\n",
              "    </tr>\n",
              "    <tr>\n",
              "      <th>1</th>\n",
              "      <td>0</td>\n",
              "      <td>0</td>\n",
              "      <td>0</td>\n",
              "      <td>0</td>\n",
              "      <td>0</td>\n",
              "      <td>0</td>\n",
              "      <td>0</td>\n",
              "      <td>0</td>\n",
              "      <td>0</td>\n",
              "      <td>0</td>\n",
              "      <td>...</td>\n",
              "      <td>0</td>\n",
              "      <td>0</td>\n",
              "      <td>0</td>\n",
              "      <td>0</td>\n",
              "      <td>0</td>\n",
              "      <td>0</td>\n",
              "      <td>0</td>\n",
              "      <td>0</td>\n",
              "      <td>0</td>\n",
              "      <td>0</td>\n",
              "    </tr>\n",
              "    <tr>\n",
              "      <th>2</th>\n",
              "      <td>0</td>\n",
              "      <td>0</td>\n",
              "      <td>0</td>\n",
              "      <td>0</td>\n",
              "      <td>0</td>\n",
              "      <td>0</td>\n",
              "      <td>0</td>\n",
              "      <td>0</td>\n",
              "      <td>0</td>\n",
              "      <td>0</td>\n",
              "      <td>...</td>\n",
              "      <td>0</td>\n",
              "      <td>0</td>\n",
              "      <td>0</td>\n",
              "      <td>0</td>\n",
              "      <td>0</td>\n",
              "      <td>0</td>\n",
              "      <td>0</td>\n",
              "      <td>0</td>\n",
              "      <td>0</td>\n",
              "      <td>0</td>\n",
              "    </tr>\n",
              "    <tr>\n",
              "      <th>3</th>\n",
              "      <td>0</td>\n",
              "      <td>0</td>\n",
              "      <td>0</td>\n",
              "      <td>0</td>\n",
              "      <td>0</td>\n",
              "      <td>0</td>\n",
              "      <td>0</td>\n",
              "      <td>0</td>\n",
              "      <td>0</td>\n",
              "      <td>0</td>\n",
              "      <td>...</td>\n",
              "      <td>0</td>\n",
              "      <td>0</td>\n",
              "      <td>0</td>\n",
              "      <td>0</td>\n",
              "      <td>0</td>\n",
              "      <td>0</td>\n",
              "      <td>0</td>\n",
              "      <td>0</td>\n",
              "      <td>0</td>\n",
              "      <td>0</td>\n",
              "    </tr>\n",
              "    <tr>\n",
              "      <th>4</th>\n",
              "      <td>0</td>\n",
              "      <td>0</td>\n",
              "      <td>0</td>\n",
              "      <td>0</td>\n",
              "      <td>0</td>\n",
              "      <td>0</td>\n",
              "      <td>0</td>\n",
              "      <td>0</td>\n",
              "      <td>0</td>\n",
              "      <td>0</td>\n",
              "      <td>...</td>\n",
              "      <td>0</td>\n",
              "      <td>0</td>\n",
              "      <td>0</td>\n",
              "      <td>0</td>\n",
              "      <td>0</td>\n",
              "      <td>0</td>\n",
              "      <td>0</td>\n",
              "      <td>0</td>\n",
              "      <td>0</td>\n",
              "      <td>0</td>\n",
              "    </tr>\n",
              "  </tbody>\n",
              "</table>\n",
              "<p>5 rows × 784 columns</p>\n",
              "</div>\n",
              "    <div class=\"colab-df-buttons\">\n",
              "\n",
              "  <div class=\"colab-df-container\">\n",
              "    <button class=\"colab-df-convert\" onclick=\"convertToInteractive('df-e37611f6-23fe-4433-825b-41cfde9860e1')\"\n",
              "            title=\"Convert this dataframe to an interactive table.\"\n",
              "            style=\"display:none;\">\n",
              "\n",
              "  <svg xmlns=\"http://www.w3.org/2000/svg\" height=\"24px\" viewBox=\"0 -960 960 960\">\n",
              "    <path d=\"M120-120v-720h720v720H120Zm60-500h600v-160H180v160Zm220 220h160v-160H400v160Zm0 220h160v-160H400v160ZM180-400h160v-160H180v160Zm440 0h160v-160H620v160ZM180-180h160v-160H180v160Zm440 0h160v-160H620v160Z\"/>\n",
              "  </svg>\n",
              "    </button>\n",
              "\n",
              "  <style>\n",
              "    .colab-df-container {\n",
              "      display:flex;\n",
              "      gap: 12px;\n",
              "    }\n",
              "\n",
              "    .colab-df-convert {\n",
              "      background-color: #E8F0FE;\n",
              "      border: none;\n",
              "      border-radius: 50%;\n",
              "      cursor: pointer;\n",
              "      display: none;\n",
              "      fill: #1967D2;\n",
              "      height: 32px;\n",
              "      padding: 0 0 0 0;\n",
              "      width: 32px;\n",
              "    }\n",
              "\n",
              "    .colab-df-convert:hover {\n",
              "      background-color: #E2EBFA;\n",
              "      box-shadow: 0px 1px 2px rgba(60, 64, 67, 0.3), 0px 1px 3px 1px rgba(60, 64, 67, 0.15);\n",
              "      fill: #174EA6;\n",
              "    }\n",
              "\n",
              "    .colab-df-buttons div {\n",
              "      margin-bottom: 4px;\n",
              "    }\n",
              "\n",
              "    [theme=dark] .colab-df-convert {\n",
              "      background-color: #3B4455;\n",
              "      fill: #D2E3FC;\n",
              "    }\n",
              "\n",
              "    [theme=dark] .colab-df-convert:hover {\n",
              "      background-color: #434B5C;\n",
              "      box-shadow: 0px 1px 3px 1px rgba(0, 0, 0, 0.15);\n",
              "      filter: drop-shadow(0px 1px 2px rgba(0, 0, 0, 0.3));\n",
              "      fill: #FFFFFF;\n",
              "    }\n",
              "  </style>\n",
              "\n",
              "    <script>\n",
              "      const buttonEl =\n",
              "        document.querySelector('#df-e37611f6-23fe-4433-825b-41cfde9860e1 button.colab-df-convert');\n",
              "      buttonEl.style.display =\n",
              "        google.colab.kernel.accessAllowed ? 'block' : 'none';\n",
              "\n",
              "      async function convertToInteractive(key) {\n",
              "        const element = document.querySelector('#df-e37611f6-23fe-4433-825b-41cfde9860e1');\n",
              "        const dataTable =\n",
              "          await google.colab.kernel.invokeFunction('convertToInteractive',\n",
              "                                                    [key], {});\n",
              "        if (!dataTable) return;\n",
              "\n",
              "        const docLinkHtml = 'Like what you see? Visit the ' +\n",
              "          '<a target=\"_blank\" href=https://colab.research.google.com/notebooks/data_table.ipynb>data table notebook</a>'\n",
              "          + ' to learn more about interactive tables.';\n",
              "        element.innerHTML = '';\n",
              "        dataTable['output_type'] = 'display_data';\n",
              "        await google.colab.output.renderOutput(dataTable, element);\n",
              "        const docLink = document.createElement('div');\n",
              "        docLink.innerHTML = docLinkHtml;\n",
              "        element.appendChild(docLink);\n",
              "      }\n",
              "    </script>\n",
              "  </div>\n",
              "\n",
              "\n",
              "<div id=\"df-943120e3-f349-4808-8cf6-461e7fc026d4\">\n",
              "  <button class=\"colab-df-quickchart\" onclick=\"quickchart('df-943120e3-f349-4808-8cf6-461e7fc026d4')\"\n",
              "            title=\"Suggest charts.\"\n",
              "            style=\"display:none;\">\n",
              "\n",
              "<svg xmlns=\"http://www.w3.org/2000/svg\" height=\"24px\"viewBox=\"0 0 24 24\"\n",
              "     width=\"24px\">\n",
              "    <g>\n",
              "        <path d=\"M19 3H5c-1.1 0-2 .9-2 2v14c0 1.1.9 2 2 2h14c1.1 0 2-.9 2-2V5c0-1.1-.9-2-2-2zM9 17H7v-7h2v7zm4 0h-2V7h2v10zm4 0h-2v-4h2v4z\"/>\n",
              "    </g>\n",
              "</svg>\n",
              "  </button>\n",
              "\n",
              "<style>\n",
              "  .colab-df-quickchart {\n",
              "      --bg-color: #E8F0FE;\n",
              "      --fill-color: #1967D2;\n",
              "      --hover-bg-color: #E2EBFA;\n",
              "      --hover-fill-color: #174EA6;\n",
              "      --disabled-fill-color: #AAA;\n",
              "      --disabled-bg-color: #DDD;\n",
              "  }\n",
              "\n",
              "  [theme=dark] .colab-df-quickchart {\n",
              "      --bg-color: #3B4455;\n",
              "      --fill-color: #D2E3FC;\n",
              "      --hover-bg-color: #434B5C;\n",
              "      --hover-fill-color: #FFFFFF;\n",
              "      --disabled-bg-color: #3B4455;\n",
              "      --disabled-fill-color: #666;\n",
              "  }\n",
              "\n",
              "  .colab-df-quickchart {\n",
              "    background-color: var(--bg-color);\n",
              "    border: none;\n",
              "    border-radius: 50%;\n",
              "    cursor: pointer;\n",
              "    display: none;\n",
              "    fill: var(--fill-color);\n",
              "    height: 32px;\n",
              "    padding: 0;\n",
              "    width: 32px;\n",
              "  }\n",
              "\n",
              "  .colab-df-quickchart:hover {\n",
              "    background-color: var(--hover-bg-color);\n",
              "    box-shadow: 0 1px 2px rgba(60, 64, 67, 0.3), 0 1px 3px 1px rgba(60, 64, 67, 0.15);\n",
              "    fill: var(--button-hover-fill-color);\n",
              "  }\n",
              "\n",
              "  .colab-df-quickchart-complete:disabled,\n",
              "  .colab-df-quickchart-complete:disabled:hover {\n",
              "    background-color: var(--disabled-bg-color);\n",
              "    fill: var(--disabled-fill-color);\n",
              "    box-shadow: none;\n",
              "  }\n",
              "\n",
              "  .colab-df-spinner {\n",
              "    border: 2px solid var(--fill-color);\n",
              "    border-color: transparent;\n",
              "    border-bottom-color: var(--fill-color);\n",
              "    animation:\n",
              "      spin 1s steps(1) infinite;\n",
              "  }\n",
              "\n",
              "  @keyframes spin {\n",
              "    0% {\n",
              "      border-color: transparent;\n",
              "      border-bottom-color: var(--fill-color);\n",
              "      border-left-color: var(--fill-color);\n",
              "    }\n",
              "    20% {\n",
              "      border-color: transparent;\n",
              "      border-left-color: var(--fill-color);\n",
              "      border-top-color: var(--fill-color);\n",
              "    }\n",
              "    30% {\n",
              "      border-color: transparent;\n",
              "      border-left-color: var(--fill-color);\n",
              "      border-top-color: var(--fill-color);\n",
              "      border-right-color: var(--fill-color);\n",
              "    }\n",
              "    40% {\n",
              "      border-color: transparent;\n",
              "      border-right-color: var(--fill-color);\n",
              "      border-top-color: var(--fill-color);\n",
              "    }\n",
              "    60% {\n",
              "      border-color: transparent;\n",
              "      border-right-color: var(--fill-color);\n",
              "    }\n",
              "    80% {\n",
              "      border-color: transparent;\n",
              "      border-right-color: var(--fill-color);\n",
              "      border-bottom-color: var(--fill-color);\n",
              "    }\n",
              "    90% {\n",
              "      border-color: transparent;\n",
              "      border-bottom-color: var(--fill-color);\n",
              "    }\n",
              "  }\n",
              "</style>\n",
              "\n",
              "  <script>\n",
              "    async function quickchart(key) {\n",
              "      const quickchartButtonEl =\n",
              "        document.querySelector('#' + key + ' button');\n",
              "      quickchartButtonEl.disabled = true;  // To prevent multiple clicks.\n",
              "      quickchartButtonEl.classList.add('colab-df-spinner');\n",
              "      try {\n",
              "        const charts = await google.colab.kernel.invokeFunction(\n",
              "            'suggestCharts', [key], {});\n",
              "      } catch (error) {\n",
              "        console.error('Error during call to suggestCharts:', error);\n",
              "      }\n",
              "      quickchartButtonEl.classList.remove('colab-df-spinner');\n",
              "      quickchartButtonEl.classList.add('colab-df-quickchart-complete');\n",
              "    }\n",
              "    (() => {\n",
              "      let quickchartButtonEl =\n",
              "        document.querySelector('#df-943120e3-f349-4808-8cf6-461e7fc026d4 button');\n",
              "      quickchartButtonEl.style.display =\n",
              "        google.colab.kernel.accessAllowed ? 'block' : 'none';\n",
              "    })();\n",
              "  </script>\n",
              "</div>\n",
              "    </div>\n",
              "  </div>\n"
            ]
          },
          "metadata": {},
          "execution_count": 6
        }
      ]
    },
    {
      "cell_type": "code",
      "source": [
        "y_train = train['label']\n",
        "X_train = train.drop(labels=['label'],axis = 1)"
      ],
      "metadata": {
        "id": "9ccS_Nt2-nWE"
      },
      "execution_count": null,
      "outputs": []
    },
    {
      "cell_type": "code",
      "source": [
        "plt.figure(figsize=(12,4))\n",
        "g = sns.countplot(x=y_train)\n",
        "plt.title(\"Numbers of digits classes\")\n",
        "print(y_train.value_counts())\n",
        "plt.show()"
      ],
      "metadata": {
        "colab": {
          "base_uri": "https://localhost:8080/",
          "height": 601
        },
        "id": "kZw8vr8e_DNz",
        "outputId": "e560abde-b6ce-499f-a2bf-8f37b32b923a"
      },
      "execution_count": null,
      "outputs": [
        {
          "output_type": "stream",
          "name": "stdout",
          "text": [
            "1    4684\n",
            "7    4401\n",
            "3    4351\n",
            "9    4188\n",
            "2    4177\n",
            "6    4137\n",
            "0    4132\n",
            "4    4072\n",
            "8    4063\n",
            "5    3795\n",
            "Name: label, dtype: int64\n"
          ]
        },
        {
          "output_type": "display_data",
          "data": {
            "text/plain": [
              "<Figure size 1200x400 with 1 Axes>"
            ],
            "image/png": "[encoded data removed]"
          },
          "metadata": {}
        }
      ]
    },
    {
      "cell_type": "code",
      "source": [
        "print(type(y_train[0]))"
      ],
      "metadata": {
        "id": "bCRu3-XN3m00",
        "outputId": "898b1aff-dcf7-4e95-c830-28f42ea8eba9",
        "colab": {
          "base_uri": "https://localhost:8080/"
        }
      },
      "execution_count": null,
      "outputs": [
        {
          "output_type": "stream",
          "name": "stdout",
          "text": [
            "<class 'numpy.int64'>\n"
          ]
        }
      ]
    },
    {
      "cell_type": "code",
      "source": [
        "# Display images\n",
        "\n",
        "fig, axs = plt.subplots(nrows= 3, ncols = 3, figsize = (10,10))\n",
        "ax = axs.ravel()\n",
        "for i in range(9):\n",
        "  data_image = X_train.iloc[i]\n",
        "  img = data_image.values\n",
        "  # img = img.as_matrix()\n",
        "  img = img.reshape((28,28))\n",
        "  ax[i].imshow(img,aspect=\"auto\")\n",
        "  # title = y_train[i].astype(str)\n",
        "  ax[i].set_title(y_train[i])\n",
        "fig.suptitle(\"Display train_images:\")\n",
        "plt.show()"
      ],
      "metadata": {
        "id": "EPYsmFY-wSbV",
        "outputId": "a9d5a075-0922-4a7a-987d-75bb9b80d4a4",
        "colab": {
          "base_uri": "https://localhost:8080/",
          "height": 930
        }
      },
      "execution_count": null,
      "outputs": [
        {
          "output_type": "display_data",
          "data": {
            "text/plain": [
              "<Figure size 1000x1000 with 9 Axes>"
            ],
            "image/png": "[encoded data removed]"
          },
          "metadata": {}
        }
      ]
    },
    {
      "cell_type": "markdown",
      "source": [
        "#Normalize, Reshape and Label Endcoding:\n",
        "Why do we have to do them?"
      ],
      "metadata": {
        "id": "wNsZEDId9lqx"
      }
    },
    {
      "cell_type": "markdown",
      "source": [
        "##Normalize data:\n",
        "\n",
        "\n",
        "1.   We normalize data with grayscale to reduce the effect of illumination's differences.\n",
        "2.   CNN model can work faster when we perform nomalization\n",
        "\n"
      ],
      "metadata": {
        "id": "Za6Hwlpc98ft"
      }
    },
    {
      "cell_type": "code",
      "source": [
        "X_train = X_train/255.0\n",
        "test = test/255.0\n",
        "\n",
        "print(f\"X_train shape: {X_train.shape}\")\n",
        "X_train.info()\n",
        "print(f\"\\nTest shape: {test.shape}\")\n",
        "test.info()"
      ],
      "metadata": {
        "colab": {
          "base_uri": "https://localhost:8080/"
        },
        "id": "WIqdMids8JWX",
        "outputId": "a6e77527-44a9-42f2-9f8e-4207d0150b19"
      },
      "execution_count": null,
      "outputs": [
        {
          "output_type": "stream",
          "name": "stdout",
          "text": [
            "X_train shape: (42000, 784)\n",
            "<class 'pandas.core.frame.DataFrame'>\n",
            "RangeIndex: 42000 entries, 0 to 41999\n",
            "Columns: 784 entries, pixel0 to pixel783\n",
            "dtypes: float64(784)\n",
            "memory usage: 251.2 MB\n",
            "\n",
            "Test shape: (28000, 784)\n",
            "<class 'pandas.core.frame.DataFrame'>\n",
            "RangeIndex: 28000 entries, 0 to 27999\n",
            "Columns: 784 entries, pixel0 to pixel783\n",
            "dtypes: float64(784)\n",
            "memory usage: 167.5 MB\n"
          ]
        }
      ]
    },
    {
      "cell_type": "markdown",
      "source": [
        "##Reshape data:\n",
        "\n",
        "\n",
        "1.   Train and test images are currently 2D matrix(28 x 28), we reshape all to 3D matrix(28 x 28 x 1)\n",
        "2.   Keras needs an extra dimension in the end which correspond to channels. Our images are gray scaled so it use only one channel.\n",
        "\n"
      ],
      "metadata": {
        "id": "c3Ff_h8qBFND"
      }
    },
    {
      "cell_type": "code",
      "source": [
        "X_train = X_train.values.reshape(-1,28,28,1)\n",
        "test = test.values.reshape(-1,28,28,1)\n",
        "print(f\"X_train: {X_train.shape}\")\n",
        "print(f\"y_train: {y_train.shape}\")"
      ],
      "metadata": {
        "colab": {
          "base_uri": "https://localhost:8080/"
        },
        "id": "iwBbgG3WA3H4",
        "outputId": "1d619325-320d-4cc9-bf55-4641e7fe788e"
      },
      "execution_count": null,
      "outputs": [
        {
          "output_type": "stream",
          "name": "stdout",
          "text": [
            "X_train: (42000, 28, 28, 1)\n",
            "y_train: (42000,)\n"
          ]
        }
      ]
    },
    {
      "cell_type": "markdown",
      "source": [
        "##Label Encoding:\n",
        "Encode labels to one hot vectors"
      ],
      "metadata": {
        "id": "DbybCjwCEX50"
      }
    },
    {
      "cell_type": "code",
      "source": [
        "import tensorflow"
      ],
      "metadata": {
        "id": "oIIBVutlFpK0"
      },
      "execution_count": 17,
      "outputs": []
    },
    {
      "cell_type": "code",
      "source": [
        "print(tensorflow.__version__)"
      ],
      "metadata": {
        "colab": {
          "base_uri": "https://localhost:8080/"
        },
        "id": "dp1ueQUrsaMu",
        "outputId": "b69b8bfe-47f7-40c9-f5ad-5c9e99e6b3a4"
      },
      "execution_count": null,
      "outputs": [
        {
          "output_type": "stream",
          "name": "stdout",
          "text": [
            "2.12.0\n"
          ]
        }
      ]
    },
    {
      "cell_type": "code",
      "source": [
        "from tensorflow.keras import utils\n",
        "y_train = utils.to_categorical(y_train, num_classes = 10)"
      ],
      "metadata": {
        "id": "e8BucM1bEXg7"
      },
      "execution_count": null,
      "outputs": []
    },
    {
      "cell_type": "code",
      "source": [
        "print(y_train)"
      ],
      "metadata": {
        "colab": {
          "base_uri": "https://localhost:8080/"
        },
        "id": "jhBYketGF8Hj",
        "outputId": "d3946db5-08c2-4932-d57e-f3d94ad9ddb8"
      },
      "execution_count": null,
      "outputs": [
        {
          "output_type": "stream",
          "name": "stdout",
          "text": [
            "[[0. 1. 0. ... 0. 0. 0.]\n",
            " [1. 0. 0. ... 0. 0. 0.]\n",
            " [0. 1. 0. ... 0. 0. 0.]\n",
            " ...\n",
            " [0. 0. 0. ... 1. 0. 0.]\n",
            " [0. 0. 0. ... 0. 0. 0.]\n",
            " [0. 0. 0. ... 0. 0. 1.]]\n"
          ]
        }
      ]
    },
    {
      "cell_type": "markdown",
      "source": [
        "#Train Test split\n"
      ],
      "metadata": {
        "id": "thh_VpkIGW67"
      }
    },
    {
      "cell_type": "code",
      "source": [
        "from sklearn.model_selection import train_test_split\n",
        "X_train, X_val, y_train, y_val = train_test_split(X_train, y_train,test_size = 0.1,random_state =2)"
      ],
      "metadata": {
        "id": "1i5UTTN9Gcob"
      },
      "execution_count": null,
      "outputs": []
    },
    {
      "cell_type": "code",
      "source": [
        "print(f\"X_train.shape: {X_train.shape}\")\n",
        "print(f\"y_train.shape: {y_train.shape}\")\n",
        "print(f\"\\nX_val.shape: {X_val.shape}\")\n",
        "print(f\"y_val.shape: {y_val.shape}\")\n"
      ],
      "metadata": {
        "colab": {
          "base_uri": "https://localhost:8080/"
        },
        "id": "8VybHOnxHREv",
        "outputId": "b996a4b2-5402-497f-ff19-79494cff3ce4"
      },
      "execution_count": null,
      "outputs": [
        {
          "output_type": "stream",
          "name": "stdout",
          "text": [
            "X_train.shape: (37800, 28, 28, 1)\n",
            "y_train.shape: (37800, 10)\n",
            "\n",
            "X_val.shape: (4200, 28, 28, 1)\n",
            "y_val.shape: (4200, 10)\n"
          ]
        }
      ]
    },
    {
      "cell_type": "code",
      "source": [
        "fig, axs = plt.subplots(nrows = 3, ncols = 3, figsize=(15,15))\n",
        "axs = axs.ravel()\n",
        "for i in range(9):\n",
        "  axs[i].imshow(X_train[i][:,:,0])\n",
        "  axs[i].set_title(f\"{y_train[i]} \\n {np.argmax(y_train[i])}\")\n",
        "fig.suptitle(\"Data image\")"
      ],
      "metadata": {
        "id": "hdYhyha4uOv9",
        "outputId": "ab04638c-5a37-432b-a698-144dbb840401",
        "colab": {
          "base_uri": "https://localhost:8080/",
          "height": 1000
        }
      },
      "execution_count": null,
      "outputs": [
        {
          "output_type": "execute_result",
          "data": {
            "text/plain": [
              "Text(0.5, 0.98, 'Data image')"
            ]
          },
          "metadata": {},
          "execution_count": 74
        },
        {
          "output_type": "display_data",
          "data": {
            "text/plain": [
              "<Figure size 1500x1500 with 9 Axes>"
            ],
            "image/png": "[encoded data removed]"
          },
          "metadata": {}
        }
      ]
    },
    {
      "cell_type": "markdown",
      "source": [
        "#Build model:"
      ],
      "metadata": {
        "id": "q6XCGkaJy0u2"
      }
    },
    {
      "cell_type": "markdown",
      "source": [
        "##Architecture of model:\n",
        " Conv2D  --> MaxPool2D --> Drop out --> Conv2D --> MaxPool2D\n",
        "--> Drop out --> Fully connected(Relu, Softmax)\n",
        "\n",
        "\n",
        "\n",
        "\n",
        "\n",
        "\n",
        "\n"
      ],
      "metadata": {
        "id": "KN5_bw24y_1h"
      }
    },
    {
      "cell_type": "code",
      "source": [
        "from sklearn.metrics import confusion_matrix\n",
        "import itertools"
      ],
      "metadata": {
        "id": "8PNT4rSly0EV"
      },
      "execution_count": null,
      "outputs": []
    },
    {
      "cell_type": "code",
      "source": [
        "from keras.utils import to_categorical\n",
        "from keras.models import Sequential\n",
        "from keras.layers import Dense, Dropout, Flatten, Conv2D, MaxPool2D\n",
        "from keras.preprocessing.image import ImageDataGenerator\n",
        "from keras.callbacks import ReduceLROnPlateau\n",
        "from tensorflow.keras.optimizers import Adam"
      ],
      "metadata": {
        "id": "_fkZv9cx2h6c"
      },
      "execution_count": null,
      "outputs": []
    },
    {
      "cell_type": "markdown",
      "source": [
        "## Create model:"
      ],
      "metadata": {
        "id": "s36DdgzCLeKj"
      }
    },
    {
      "cell_type": "code",
      "source": [
        "model = Sequential()\n",
        "model.add(Conv2D(filters = 8, kernel_size= (5,5), padding = 'Same', activation = 'relu', input_shape = (28,28,1)))\n",
        "model.add(MaxPool2D(pool_size = (2,2)))\n",
        "model.add(Dropout(0.25))\n",
        "\n",
        "model.add(Conv2D(filters = 16, kernel_size= (3,3), padding = 'Same', activation = 'relu'))\n",
        "model.add(MaxPool2D(pool_size = (2,2), strides = (2,2)))\n",
        "model.add(Dropout(0.25))\n",
        "\n",
        "#fully connected\n",
        "model.add(Flatten())\n",
        "model.add(Dense(256, activation = 'relu'))\n",
        "model.add(Dropout(0.5))\n",
        "model.add(Dense(10, activation = 'softmax'))"
      ],
      "metadata": {
        "id": "GjstpSzHLjM2"
      },
      "execution_count": null,
      "outputs": []
    },
    {
      "cell_type": "code",
      "source": [
        "optimizer = Adam(lr = 0.001, beta_1 = 0.9, beta_2 = 0.999)"
      ],
      "metadata": {
        "id": "yz3iidS3Ooex",
        "outputId": "2ca48115-cd6b-46c6-a0f7-6ce1f32a95ec",
        "colab": {
          "base_uri": "https://localhost:8080/"
        }
      },
      "execution_count": null,
      "outputs": [
        {
          "output_type": "stream",
          "name": "stderr",
          "text": [
            "WARNING:absl:`lr` is deprecated in Keras optimizer, please use `learning_rate` or use the legacy optimizer, e.g.,tf.keras.optimizers.legacy.Adam.\n"
          ]
        }
      ]
    },
    {
      "cell_type": "code",
      "source": [
        "model.compile(optimizer = optimizer, loss = \"categorical_crossentropy\", metrics = [\"accuracy\"])"
      ],
      "metadata": {
        "id": "osxs2JRCPhQI"
      },
      "execution_count": null,
      "outputs": []
    },
    {
      "cell_type": "markdown",
      "source": [
        "###Epochs and Batch Size"
      ],
      "metadata": {
        "id": "L8UiEJt5QU08"
      }
    },
    {
      "cell_type": "code",
      "source": [
        "epochs = 30\n",
        "batch_size = 128 # 2^x"
      ],
      "metadata": {
        "id": "JWoOue3uQaM-"
      },
      "execution_count": null,
      "outputs": []
    },
    {
      "cell_type": "markdown",
      "source": [
        "##Visualize model:"
      ],
      "metadata": {
        "id": "IbEn8wZFs3EG"
      }
    },
    {
      "cell_type": "code",
      "source": [
        "model.summary()"
      ],
      "metadata": {
        "colab": {
          "base_uri": "https://localhost:8080/"
        },
        "id": "VuwUhcPQs5Xj",
        "outputId": "d4f6ce60-363c-40e1-d747-591c227ed309"
      },
      "execution_count": null,
      "outputs": [
        {
          "output_type": "stream",
          "name": "stdout",
          "text": [
            "Model: \"sequential_7\"\n",
            "_________________________________________________________________\n",
            " Layer (type)                Output Shape              Param #   \n",
            "=================================================================\n",
            " conv2d_24 (Conv2D)          (None, 28, 28, 8)         208       \n",
            "                                                                 \n",
            " max_pooling2d_19 (MaxPoolin  (None, 14, 14, 8)        0         \n",
            " g2D)                                                            \n",
            "                                                                 \n",
            " dropout_6 (Dropout)         (None, 14, 14, 8)         0         \n",
            "                                                                 \n",
            " conv2d_25 (Conv2D)          (None, 14, 14, 16)        1168      \n",
            "                                                                 \n",
            " max_pooling2d_20 (MaxPoolin  (None, 7, 7, 16)         0         \n",
            " g2D)                                                            \n",
            "                                                                 \n",
            " dropout_7 (Dropout)         (None, 7, 7, 16)          0         \n",
            "                                                                 \n",
            " flatten_2 (Flatten)         (None, 784)               0         \n",
            "                                                                 \n",
            " dense_4 (Dense)             (None, 256)               200960    \n",
            "                                                                 \n",
            " dropout_8 (Dropout)         (None, 256)               0         \n",
            "                                                                 \n",
            " dense_5 (Dense)             (None, 10)                2570      \n",
            "                                                                 \n",
            "=================================================================\n",
            "Total params: 204,906\n",
            "Trainable params: 204,906\n",
            "Non-trainable params: 0\n",
            "_________________________________________________________________\n"
          ]
        }
      ]
    },
    {
      "cell_type": "code",
      "source": [
        "from tensorflow.keras.utils import plot_model\n",
        "plot_model(model, to_file = 'digits_model.png',show_shapes = True)"
      ],
      "metadata": {
        "colab": {
          "base_uri": "https://localhost:8080/",
          "height": 1000
        },
        "id": "ELVnYwQPs-wu",
        "outputId": "cd722072-2bd3-4fa0-92fa-194647cca7cd"
      },
      "execution_count": null,
      "outputs": [
        {
          "output_type": "execute_result",
          "data": {
            "image/png": "[encoded data removed]",
            "text/plain": [
              "<IPython.core.display.Image object>"
            ]
          },
          "metadata": {},
          "execution_count": 114
        }
      ]
    },
    {
      "cell_type": "markdown",
      "source": [
        "#Data augmentation:\n",
        "\n",
        "\n",
        "*   We perform data augmentation to create more data in a lot of situation, then we can avoid overfiting data.\n",
        "*   Ex: rotate image, zoom, cut, flip, ....\n",
        "Note that: Don't flip vertically, becaue fliping vertically 6 is 9\n",
        "\n"
      ],
      "metadata": {
        "id": "h_0FZ2dQRNcX"
      }
    },
    {
      "cell_type": "code",
      "source": [
        "datagen = ImageDataGenerator(\n",
        "        featurewise_center=False,  # set input mean to 0 over the dataset\n",
        "        samplewise_center=False,  # set each sample mean to 0\n",
        "        featurewise_std_normalization=False,  # divide inputs by std of the dataset\n",
        "        samplewise_std_normalization=False,  # divide each input by its std\n",
        "        zca_whitening=False,  # dimesion reduction\n",
        "        rotation_range=5,  # randomly rotate images in the range 5 degrees\n",
        "        zoom_range = 0.1, # Randomly zoom image 10%\n",
        "        width_shift_range=0.1,  # randomly shift images horizontally 10%\n",
        "        height_shift_range=0.1,  # randomly shift images vertically 10%\n",
        "        horizontal_flip=False,  # randomly flip images\n",
        "        vertical_flip=False)  # randomly flip images\n",
        "datagen.fit(X_train)"
      ],
      "metadata": {
        "id": "GuPyKOrVQUd8"
      },
      "execution_count": null,
      "outputs": []
    },
    {
      "cell_type": "code",
      "source": [
        "print(X_train.shape)"
      ],
      "metadata": {
        "id": "igZw-qYYUt8L",
        "outputId": "6dacbb7f-f4d4-4636-fef1-fac3b81b92c9",
        "colab": {
          "base_uri": "https://localhost:8080/"
        }
      },
      "execution_count": null,
      "outputs": [
        {
          "output_type": "stream",
          "name": "stdout",
          "text": [
            "(37800, 28, 28, 1)\n"
          ]
        }
      ]
    },
    {
      "cell_type": "code",
      "source": [
        "history1 = model.fit_generator(datagen.flow(X_train,y_train,batch_size = batch_size),epochs = epochs,\n",
        "                                validation_data = (X_val,y_val), steps_per_epoch = X_train.shape[0]//batch_size)"
      ],
      "metadata": {
        "id": "uuFDw5WMU75Q",
        "outputId": "1777711f-86bf-484f-a9e1-fa68fca71b82",
        "colab": {
          "base_uri": "https://localhost:8080/"
        }
      },
      "execution_count": null,
      "outputs": [
        {
          "output_type": "stream",
          "name": "stdout",
          "text": [
            "Epoch 1/30\n"
          ]
        },
        {
          "output_type": "stream",
          "name": "stderr",
          "text": [
            "<ipython-input-88-33a387a8a4e3>:1: UserWarning: `Model.fit_generator` is deprecated and will be removed in a future version. Please use `Model.fit`, which supports generators.\n",
            "  history1 = model.fit_generator(datagen.flow(X_train,y_train,batch_size = batch_size),epochs = epochs,\n"
          ]
        },
        {
          "output_type": "stream",
          "name": "stdout",
          "text": [
            "295/295 [==============================] - 47s 154ms/step - loss: 0.9289 - accuracy: 0.6914 - val_loss: 0.1781 - val_accuracy: 0.9526\n",
            "Epoch 2/30\n",
            "295/295 [==============================] - 41s 139ms/step - loss: 0.3745 - accuracy: 0.8812 - val_loss: 0.1106 - val_accuracy: 0.9698\n",
            "Epoch 3/30\n",
            "295/295 [==============================] - 41s 139ms/step - loss: 0.2781 - accuracy: 0.9112 - val_loss: 0.0895 - val_accuracy: 0.9721\n",
            "Epoch 4/30\n",
            "295/295 [==============================] - 41s 140ms/step - loss: 0.2455 - accuracy: 0.9236 - val_loss: 0.0777 - val_accuracy: 0.9798\n",
            "Epoch 5/30\n",
            "295/295 [==============================] - 41s 139ms/step - loss: 0.2150 - accuracy: 0.9336 - val_loss: 0.0669 - val_accuracy: 0.9807\n",
            "Epoch 6/30\n",
            "295/295 [==============================] - 41s 139ms/step - loss: 0.1917 - accuracy: 0.9397 - val_loss: 0.0633 - val_accuracy: 0.9810\n",
            "Epoch 7/30\n",
            "295/295 [==============================] - 41s 138ms/step - loss: 0.1775 - accuracy: 0.9458 - val_loss: 0.0554 - val_accuracy: 0.9840\n",
            "Epoch 8/30\n",
            "295/295 [==============================] - 41s 139ms/step - loss: 0.1725 - accuracy: 0.9478 - val_loss: 0.0544 - val_accuracy: 0.9848\n",
            "Epoch 9/30\n",
            "295/295 [==============================] - 41s 139ms/step - loss: 0.1617 - accuracy: 0.9498 - val_loss: 0.0515 - val_accuracy: 0.9862\n",
            "Epoch 10/30\n",
            "295/295 [==============================] - 41s 139ms/step - loss: 0.1539 - accuracy: 0.9537 - val_loss: 0.0475 - val_accuracy: 0.9867\n",
            "Epoch 11/30\n",
            "295/295 [==============================] - 41s 139ms/step - loss: 0.1519 - accuracy: 0.9537 - val_loss: 0.0455 - val_accuracy: 0.9874\n",
            "Epoch 12/30\n",
            "295/295 [==============================] - 41s 139ms/step - loss: 0.1418 - accuracy: 0.9564 - val_loss: 0.0466 - val_accuracy: 0.9871\n",
            "Epoch 13/30\n",
            "295/295 [==============================] - 43s 145ms/step - loss: 0.1377 - accuracy: 0.9560 - val_loss: 0.0496 - val_accuracy: 0.9860\n",
            "Epoch 14/30\n",
            "295/295 [==============================] - 43s 146ms/step - loss: 0.1316 - accuracy: 0.9600 - val_loss: 0.0423 - val_accuracy: 0.9881\n",
            "Epoch 15/30\n",
            "295/295 [==============================] - 42s 141ms/step - loss: 0.1272 - accuracy: 0.9610 - val_loss: 0.0448 - val_accuracy: 0.9876\n",
            "Epoch 16/30\n",
            "295/295 [==============================] - 42s 141ms/step - loss: 0.1196 - accuracy: 0.9638 - val_loss: 0.0407 - val_accuracy: 0.9886\n",
            "Epoch 17/30\n",
            "295/295 [==============================] - 43s 144ms/step - loss: 0.1241 - accuracy: 0.9612 - val_loss: 0.0428 - val_accuracy: 0.9879\n",
            "Epoch 18/30\n",
            "295/295 [==============================] - 42s 141ms/step - loss: 0.1190 - accuracy: 0.9645 - val_loss: 0.0432 - val_accuracy: 0.9886\n",
            "Epoch 19/30\n",
            "295/295 [==============================] - 42s 141ms/step - loss: 0.1159 - accuracy: 0.9653 - val_loss: 0.0405 - val_accuracy: 0.9876\n",
            "Epoch 20/30\n",
            "295/295 [==============================] - 43s 146ms/step - loss: 0.1155 - accuracy: 0.9645 - val_loss: 0.0402 - val_accuracy: 0.9881\n",
            "Epoch 21/30\n",
            "295/295 [==============================] - 41s 140ms/step - loss: 0.1130 - accuracy: 0.9653 - val_loss: 0.0412 - val_accuracy: 0.9879\n",
            "Epoch 22/30\n",
            "295/295 [==============================] - 41s 140ms/step - loss: 0.1060 - accuracy: 0.9674 - val_loss: 0.0396 - val_accuracy: 0.9879\n",
            "Epoch 23/30\n",
            "295/295 [==============================] - 41s 140ms/step - loss: 0.1085 - accuracy: 0.9665 - val_loss: 0.0384 - val_accuracy: 0.9886\n",
            "Epoch 24/30\n",
            "295/295 [==============================] - 41s 140ms/step - loss: 0.1067 - accuracy: 0.9677 - val_loss: 0.0397 - val_accuracy: 0.9898\n",
            "Epoch 25/30\n",
            "295/295 [==============================] - 43s 146ms/step - loss: 0.1056 - accuracy: 0.9679 - val_loss: 0.0391 - val_accuracy: 0.9898\n",
            "Epoch 26/30\n",
            "295/295 [==============================] - 41s 140ms/step - loss: 0.1017 - accuracy: 0.9687 - val_loss: 0.0366 - val_accuracy: 0.9893\n",
            "Epoch 27/30\n",
            "295/295 [==============================] - 42s 141ms/step - loss: 0.0996 - accuracy: 0.9691 - val_loss: 0.0351 - val_accuracy: 0.9907\n",
            "Epoch 28/30\n",
            "295/295 [==============================] - 42s 141ms/step - loss: 0.1009 - accuracy: 0.9681 - val_loss: 0.0352 - val_accuracy: 0.9886\n",
            "Epoch 29/30\n",
            "295/295 [==============================] - 42s 142ms/step - loss: 0.0970 - accuracy: 0.9705 - val_loss: 0.0358 - val_accuracy: 0.9900\n",
            "Epoch 30/30\n",
            "295/295 [==============================] - 42s 141ms/step - loss: 0.0968 - accuracy: 0.9707 - val_loss: 0.0370 - val_accuracy: 0.9895\n"
          ]
        }
      ]
    },
    {
      "cell_type": "markdown",
      "source": [
        "#Predicted test_data with model:\n"
      ],
      "metadata": {
        "id": "bnwE8ZvzdYg_"
      }
    },
    {
      "cell_type": "code",
      "source": [
        "res1 = model.predict(test)"
      ],
      "metadata": {
        "id": "XuSp2Ks5dYCp",
        "outputId": "76629943-399a-4e44-870e-1b24c1125736",
        "colab": {
          "base_uri": "https://localhost:8080/"
        }
      },
      "execution_count": null,
      "outputs": [
        {
          "output_type": "stream",
          "name": "stdout",
          "text": [
            "875/875 [==============================] - 8s 9ms/step\n"
          ]
        }
      ]
    },
    {
      "cell_type": "code",
      "source": [
        "res1 = np.argmax(res1, axis = 1)"
      ],
      "metadata": {
        "id": "eir_qgKfd-OQ"
      },
      "execution_count": null,
      "outputs": []
    },
    {
      "cell_type": "code",
      "source": [
        "fig, axs = plt.subplots(nrows = 3, ncols = 3, figsize = (10,10))\n",
        "axs = axs.ravel()\n",
        "for i in range(9):\n",
        "  axs[i].imshow(test[i][:,:,0])\n",
        "  axs[i].set_title(res1[i])\n",
        "fig.suptitle(\"Result of prediction:\")"
      ],
      "metadata": {
        "id": "GN5RQWpveLTg",
        "outputId": "c4dded22-b1c3-49fb-b984-1b41863227cb",
        "colab": {
          "base_uri": "https://localhost:8080/",
          "height": 947
        }
      },
      "execution_count": null,
      "outputs": [
        {
          "output_type": "execute_result",
          "data": {
            "text/plain": [
              "Text(0.5, 0.98, 'Result of prediction:')"
            ]
          },
          "metadata": {},
          "execution_count": 92
        },
        {
          "output_type": "display_data",
          "data": {
            "text/plain": [
              "<Figure size 1000x1000 with 9 Axes>"
            ],
            "image/png": "[encoded data removed]"
          },
          "metadata": {}
        }
      ]
    },
    {
      "cell_type": "markdown",
      "source": [
        "##Evaluate model:\n",
        "We will evaluate this model with loss and accuracy of validation data"
      ],
      "metadata": {
        "id": "wmm9zi95UsKT"
      }
    },
    {
      "cell_type": "code",
      "source": [
        "history1.history"
      ],
      "metadata": {
        "colab": {
          "base_uri": "https://localhost:8080/"
        },
        "id": "wPeCMAKpqLQA",
        "outputId": "22886870-b758-4103-c6d6-e9d53b36877a"
      },
      "execution_count": null,
      "outputs": [
        {
          "output_type": "execute_result",
          "data": {
            "text/plain": [
              "{'loss': [0.9288575649261475,\n",
              "  0.3745386302471161,\n",
              "  0.27814483642578125,\n",
              "  0.24552257359027863,\n",
              "  0.2150079905986786,\n",
              "  0.19165188074111938,\n",
              "  0.17749331891536713,\n",
              "  0.17247402667999268,\n",
              "  0.1616874635219574,\n",
              "  0.15387365221977234,\n",
              "  0.15190380811691284,\n",
              "  0.14177286624908447,\n",
              "  0.1376694142818451,\n",
              "  0.13160210847854614,\n",
              "  0.12716084718704224,\n",
              "  0.1196446418762207,\n",
              "  0.12407267838716507,\n",
              "  0.11904845386743546,\n",
              "  0.11590486764907837,\n",
              "  0.1155194640159607,\n",
              "  0.11303265392780304,\n",
              "  0.10602803528308868,\n",
              "  0.10854148119688034,\n",
              "  0.10670815408229828,\n",
              "  0.10558877885341644,\n",
              "  0.10172048211097717,\n",
              "  0.09964480996131897,\n",
              "  0.10089172422885895,\n",
              "  0.0969931036233902,\n",
              "  0.09682266414165497],\n",
              " 'accuracy': [0.6914418935775757,\n",
              "  0.881211519241333,\n",
              "  0.9112072587013245,\n",
              "  0.9236037135124207,\n",
              "  0.9336377382278442,\n",
              "  0.9397430419921875,\n",
              "  0.9457952976226807,\n",
              "  0.9478126764297485,\n",
              "  0.9497504830360413,\n",
              "  0.9536791443824768,\n",
              "  0.953652560710907,\n",
              "  0.9564397931098938,\n",
              "  0.9560416340827942,\n",
              "  0.9599702954292297,\n",
              "  0.9610320925712585,\n",
              "  0.9638192653656006,\n",
              "  0.9611647725105286,\n",
              "  0.9644563794136047,\n",
              "  0.9653058052062988,\n",
              "  0.9644829034805298,\n",
              "  0.965252697467804,\n",
              "  0.9674028158187866,\n",
              "  0.9665003418922424,\n",
              "  0.9676682949066162,\n",
              "  0.9678806662559509,\n",
              "  0.96870356798172,\n",
              "  0.9691282510757446,\n",
              "  0.9681195616722107,\n",
              "  0.970535159111023,\n",
              "  0.9706944227218628],\n",
              " 'val_loss': [0.17807137966156006,\n",
              "  0.11057891696691513,\n",
              "  0.08950195461511612,\n",
              "  0.0776970237493515,\n",
              "  0.06686874479055405,\n",
              "  0.06328596919775009,\n",
              "  0.055401675403118134,\n",
              "  0.05443263053894043,\n",
              "  0.0515340119600296,\n",
              "  0.04746724292635918,\n",
              "  0.04547790065407753,\n",
              "  0.04658672958612442,\n",
              "  0.049562644213438034,\n",
              "  0.0423019677400589,\n",
              "  0.04483720660209656,\n",
              "  0.04074022173881531,\n",
              "  0.04283417388796806,\n",
              "  0.04324489086866379,\n",
              "  0.04046544432640076,\n",
              "  0.040227971971035004,\n",
              "  0.04119981825351715,\n",
              "  0.03957689180970192,\n",
              "  0.03843585029244423,\n",
              "  0.03971533104777336,\n",
              "  0.039101097732782364,\n",
              "  0.036553915590047836,\n",
              "  0.03509443625807762,\n",
              "  0.03524484857916832,\n",
              "  0.03578091785311699,\n",
              "  0.03701714426279068],\n",
              " 'val_accuracy': [0.9526190757751465,\n",
              "  0.9697619080543518,\n",
              "  0.9721428751945496,\n",
              "  0.9797618985176086,\n",
              "  0.9807142615318298,\n",
              "  0.9809523820877075,\n",
              "  0.9840475916862488,\n",
              "  0.9847618937492371,\n",
              "  0.9861904978752136,\n",
              "  0.9866666793823242,\n",
              "  0.9873809814453125,\n",
              "  0.9871428608894348,\n",
              "  0.9859523773193359,\n",
              "  0.988095223903656,\n",
              "  0.9876190423965454,\n",
              "  0.9885714054107666,\n",
              "  0.9878571629524231,\n",
              "  0.9885714054107666,\n",
              "  0.9876190423965454,\n",
              "  0.988095223903656,\n",
              "  0.9878571629524231,\n",
              "  0.9878571629524231,\n",
              "  0.9885714054107666,\n",
              "  0.9897618889808655,\n",
              "  0.9897618889808655,\n",
              "  0.9892857074737549,\n",
              "  0.9907143115997314,\n",
              "  0.9885714054107666,\n",
              "  0.9900000095367432,\n",
              "  0.9895238280296326]}"
            ]
          },
          "metadata": {},
          "execution_count": 94
        }
      ]
    },
    {
      "cell_type": "code",
      "source": [
        "fig,ax = plt.subplots(nrows = 1, ncols = 2,figsize=(15,8))\n",
        "ax = ax.ravel()\n",
        "#val_loss\n",
        "ax[0].plot(history1.history['val_loss'],color = 'b',label = 'validation loss')\n",
        "ax[0].set_title(\"Test Loss\")\n",
        "ax[0].set(xlabel = \"Number of epochs\", ylabel = \"Loss\")\n",
        "ax[0].legend()\n",
        "\n",
        "#val_accuracy\n",
        "ax[1].plot(history1.history['val_accuracy'],color = 'r',label = 'validation accuracy')\n",
        "ax[1].set_title(\"Test accuracy\")\n",
        "ax[1].set(xlabel = \"Number of epochs\", ylabel = \"Accuracy\")\n",
        "ax[1].legend()\n",
        "\n",
        "plt.show()"
      ],
      "metadata": {
        "id": "b3D-MFv_Uu02",
        "outputId": "6d10f099-3be0-432d-e302-9d2a6dbb101d",
        "colab": {
          "base_uri": "https://localhost:8080/",
          "height": 718
        }
      },
      "execution_count": null,
      "outputs": [
        {
          "output_type": "display_data",
          "data": {
            "text/plain": [
              "<Figure size 1500x800 with 2 Axes>"
            ],
            "image/png": "[encoded data removed]"
          },
          "metadata": {}
        }
      ]
    },
    {
      "cell_type": "markdown",
      "source": [
        "##Save the model:"
      ],
      "metadata": {
        "id": "xU4t6-Mec2Tv"
      }
    },
    {
      "cell_type": "code",
      "source": [
        "from tensorflow.keras.models import load_model"
      ],
      "metadata": {
        "id": "nvvpVKSoDFBU"
      },
      "execution_count": 18,
      "outputs": []
    },
    {
      "cell_type": "code",
      "source": [
        "#with h5 file\n",
        "model.save('/content/drive/MyDrive/Tài liệu học kì 1 năm 3/Open_source/Project/data/saved_model1.h5')"
      ],
      "metadata": {
        "id": "9uTyvILfc5OL"
      },
      "execution_count": null,
      "outputs": []
    },
    {
      "cell_type": "markdown",
      "source": [
        "Test using saved_model1"
      ],
      "metadata": {
        "id": "MSv5Ule60qhV"
      }
    },
    {
      "cell_type": "code",
      "source": [
        "saved_model = load_model('/content/drive/MyDrive/Tài liệu học kì 1 năm 3/Open_source/Project/data/saved_model1.h5')"
      ],
      "metadata": {
        "id": "qGkWU8ONHsm9"
      },
      "execution_count": 19,
      "outputs": []
    },
    {
      "cell_type": "code",
      "source": [
        "pre_SMd = saved_model.predict(test)"
      ],
      "metadata": {
        "id": "v1gQxJAEIMNu",
        "outputId": "519dc21f-0f2a-4072-81d3-d8b2ca7ea719",
        "colab": {
          "base_uri": "https://localhost:8080/"
        }
      },
      "execution_count": null,
      "outputs": [
        {
          "output_type": "stream",
          "name": "stdout",
          "text": [
            "875/875 [==============================] - 12s 14ms/step\n"
          ]
        }
      ]
    },
    {
      "cell_type": "code",
      "source": [
        "pre_SMd = np.argmax(pre_SMd, axis = 1)"
      ],
      "metadata": {
        "id": "yachULGvsFd1"
      },
      "execution_count": null,
      "outputs": []
    },
    {
      "cell_type": "code",
      "source": [
        "fig, axs = plt.subplots(nrows = 3, ncols = 3, figsize = (10,10))\n",
        "axs = axs.ravel()\n",
        "for i in range(9):\n",
        "  axs[i].imshow(test[i][:,:,0])\n",
        "  axs[i].set_title(pre_SMd[i])\n",
        "fig.suptitle(\"Result of prediction:\")"
      ],
      "metadata": {
        "id": "R1_hLevGIi7Q",
        "outputId": "813d58b6-8649-4d8c-c330-eba65896cc5d",
        "colab": {
          "base_uri": "https://localhost:8080/",
          "height": 947
        }
      },
      "execution_count": null,
      "outputs": [
        {
          "output_type": "execute_result",
          "data": {
            "text/plain": [
              "Text(0.5, 0.98, 'Result of prediction:')"
            ]
          },
          "metadata": {},
          "execution_count": 111
        },
        {
          "output_type": "display_data",
          "data": {
            "text/plain": [
              "<Figure size 1000x1000 with 9 Axes>"
            ],
            "image/png": "[encoded data removed]"
          },
          "metadata": {}
        }
      ]
    },
    {
      "cell_type": "code",
      "source": [
        "import pickle"
      ],
      "metadata": {
        "id": "GIxK0IBYsvPl"
      },
      "execution_count": null,
      "outputs": []
    },
    {
      "cell_type": "code",
      "source": [
        "print(pickle.format_version)"
      ],
      "metadata": {
        "colab": {
          "base_uri": "https://localhost:8080/"
        },
        "id": "kiI8HmbisxEu",
        "outputId": "7f3fbccb-37b7-462d-feda-bac7881933e5"
      },
      "execution_count": null,
      "outputs": [
        {
          "output_type": "stream",
          "name": "stdout",
          "text": [
            "4.0\n"
          ]
        }
      ]
    },
    {
      "cell_type": "code",
      "source": [
        "#save model with pickle\n",
        "with open('/content/drive/MyDrive/Tài liệu học kì 1 năm 3/Open_source/Project/data/saved_model1.pkl','wb') as f:\n",
        "  pickle.dump(model,f)"
      ],
      "metadata": {
        "id": "vrBXfANmJHp1"
      },
      "execution_count": null,
      "outputs": []
    },
    {
      "cell_type": "code",
      "source": [
        "#open saved_model with pikle\n",
        "with open('/content/drive/MyDrive/Tài liệu học kì 1 năm 3/Open_source/Project/data/saved_model1.pkl','rb') as f:\n",
        "  saved_md1_pkl = pickle.load(f)"
      ],
      "metadata": {
        "id": "tIQvXl4DJqM5"
      },
      "execution_count": null,
      "outputs": []
    },
    {
      "cell_type": "code",
      "source": [
        "pre_SMd1_pkl = saved_md1_pkl.predict(test)\n",
        "pre_SMd1_pkl = np.argmax(pre_SMd1_pkl,axis = 1)\n",
        "print(pre_SMd1_pkl)"
      ],
      "metadata": {
        "id": "JaPFbUwLJ_H2",
        "outputId": "21dcbb42-869b-44c5-e63f-54d16ccaeeef",
        "colab": {
          "base_uri": "https://localhost:8080/"
        }
      },
      "execution_count": null,
      "outputs": [
        {
          "output_type": "stream",
          "name": "stdout",
          "text": [
            "875/875 [==============================] - 10s 11ms/step\n",
            "[2 0 9 ... 3 9 2]\n"
          ]
        }
      ]
    },
    {
      "cell_type": "markdown",
      "source": [
        "#Test with an image"
      ],
      "metadata": {
        "id": "I2Gd1YVIXNrE"
      }
    },
    {
      "cell_type": "code",
      "source": [
        "import cv2"
      ],
      "metadata": {
        "id": "KdsiLWc7XiA6"
      },
      "execution_count": 20,
      "outputs": []
    },
    {
      "cell_type": "code",
      "source": [
        "original_img = cv2.imread('/content/drive/MyDrive/Tài liệu học kì 1 năm 3/Open_source/Project/data//test_image.png',1)\n",
        "img = cv2.imread('/content/drive/MyDrive/Tài liệu học kì 1 năm 3/Open_source/Project/data//test_image.png',0)\n",
        "# cv2.imshow(\"picture:\",img)\n",
        "img = cv2.adaptiveThreshold(img,255,cv2.ADAPTIVE_THRESH_GAUSSIAN_C,\\\n",
        "            cv2.THRESH_BINARY,11,2)\n",
        "\n",
        "# cv2.imshow(\"picture after thresh_gaussian\",pic)\n",
        "ret,pic = cv2.threshold(img,200,255,cv2.THRESH_BINARY)\n",
        "# cv2.imshow(\"picture after all processing\",pic)\n",
        "\n",
        "pic = 255-pic\n",
        "pic_scaled = pic/255.0\n",
        "\n",
        "pic_scaled = pic.reshape(-1,28,28,1)"
      ],
      "metadata": {
        "id": "-jrBu4_dXQY4"
      },
      "execution_count": 34,
      "outputs": []
    },
    {
      "cell_type": "code",
      "source": [
        "fig,axis = plt.subplots(nrows = 1, ncols = 2,figsize = (10,8))\n",
        "ax = axis.ravel()\n",
        "ax[0].imshow(original_img)\n",
        "ax[0].set_title(\"Original image:\")\n",
        "\n",
        "ax[1].imshow(pic,cmap='gray')\n",
        "ax[1].set_title(\"Image after processing:\")\n",
        "plt.show()"
      ],
      "metadata": {
        "id": "4DNpNBCuEKsx",
        "outputId": "3c016ebc-2504-4320-829f-3f8619c0c415",
        "colab": {
          "base_uri": "https://localhost:8080/",
          "height": 435
        }
      },
      "execution_count": 37,
      "outputs": [
        {
          "output_type": "display_data",
          "data": {
            "text/plain": [
              "<Figure size 1000x800 with 2 Axes>"
            ],
            "image/png": "[encoded data removed]"
          },
          "metadata": {}
        }
      ]
    },
    {
      "cell_type": "code",
      "source": [
        "tmp = saved_model.predict(pic_scaled)\n",
        "pic_predict = np.argmax(tmp,axis=1)\n",
        "print(f\"Number of prediction: {pic_predict}\")\n",
        "# cv2.waitKey(0)\n",
        "# cv2.destroyWindow()"
      ],
      "metadata": {
        "id": "bo6vkxocXrAv",
        "outputId": "7110ebfe-0b66-4499-c2ed-47694fd2aebe",
        "colab": {
          "base_uri": "https://localhost:8080/"
        }
      },
      "execution_count": 39,
      "outputs": [
        {
          "output_type": "stream",
          "name": "stdout",
          "text": [
            "1/1 [==============================] - 0s 44ms/step\n",
            "Number of prediction: [5]\n"
          ]
        }
      ]
    }
  ]
}